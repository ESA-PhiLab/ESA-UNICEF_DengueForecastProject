{
 "cells": [
  {
   "cell_type": "markdown",
   "metadata": {
    "id": "gIlI6C3o_Dk9"
   },
   "source": [
    "# Automatically download data (ERA5 and NDVI) from GEE through the Python API"
   ]
  },
  {
   "cell_type": "markdown",
   "metadata": {
    "id": "DPuxP8H1_Pbm"
   },
   "source": [
    "## 1. Authentications and imports"
   ]
  },
  {
   "cell_type": "code",
   "execution_count": null,
   "metadata": {
    "colab": {
     "base_uri": "https://localhost:8080/"
    },
    "executionInfo": {
     "elapsed": 12783,
     "status": "ok",
     "timestamp": 1643388077583,
     "user": {
      "displayName": "Raquel Carmo",
      "photoUrl": "https://lh3.googleusercontent.com/a-/AOh14GgUUTZlzR-089p-AQlc4K-YNrw3DWlq1fWmuzLsdfI=s64",
      "userId": "09214858898201854328"
     },
     "user_tz": -60
    },
    "id": "llsCq6j1WI8p",
    "outputId": "ab112a1c-d49e-4cb4-b389-9f004294a454"
   },
   "outputs": [],
   "source": [
    "# import the gee API to the notebook session\n",
    "import ee\n",
    "\n",
    "# authenticate to the Earth Engine servers\n",
    "ee.Authenticate()\n",
    "\n",
    "# initialize the API\n",
    "ee.Initialize()"
   ]
  },
  {
   "cell_type": "code",
   "execution_count": null,
   "metadata": {
    "colab": {
     "base_uri": "https://localhost:8080/"
    },
    "executionInfo": {
     "elapsed": 18571,
     "status": "ok",
     "timestamp": 1643404991367,
     "user": {
      "displayName": "Raquel Carmo",
      "photoUrl": "https://lh3.googleusercontent.com/a-/AOh14GgUUTZlzR-089p-AQlc4K-YNrw3DWlq1fWmuzLsdfI=s64",
      "userId": "09214858898201854328"
     },
     "user_tz": -60
    },
    "id": "Khko_p49aEJo",
    "outputId": "4e56be3a-1e7f-4601-98ba-89ebcf6ba54e"
   },
   "outputs": [],
   "source": [
    "# insert your desired path to work on\n",
    "import os\n",
    "from os.path import join\n",
    "project_path = os.path.dirname(os.getcwd())\n",
    "os.chdir(join('..','..','data'))\n",
    "os.getcwd()"
   ]
  },
  {
   "cell_type": "markdown",
   "metadata": {},
   "source": [
    "Import necessary python libraries."
   ]
  },
  {
   "cell_type": "code",
   "execution_count": null,
   "metadata": {
    "id": "VO0yNhhCbz4d"
   },
   "outputs": [],
   "source": [
    "!pip install unidecode --quiet\n",
    "import unidecode\n",
    "import numpy as np\n",
    "import pandas as pd\n",
    "from glob import glob"
   ]
  },
  {
   "cell_type": "markdown",
   "metadata": {},
   "source": [
    "Set folder structure."
   ]
  },
  {
   "cell_type": "code",
   "execution_count": null,
   "metadata": {},
   "outputs": [],
   "source": [
    "config = {\n",
    "    'main_brazil': 'Brazil',\n",
    "    'main_peru': 'Peru',\n",
    "    'out_brazil': join('Brazil', 'collections_Brazil'),\n",
    "    'out_peru': join('Peru', 'collections_Peru')\n",
    "}\n",
    "\n",
    "# List comprehension for the folder structure code\n",
    "[os.makedirs(val, exist_ok=True) for key, val in config.items()]"
   ]
  },
  {
   "cell_type": "markdown",
   "metadata": {
    "id": "goDkqaGz_bSh"
   },
   "source": [
    "## 2. Code to download data"
   ]
  },
  {
   "cell_type": "markdown",
   "metadata": {
    "id": "FN7b3RwG_jUv"
   },
   "source": [
    "### 2.1. Functions"
   ]
  },
  {
   "cell_type": "code",
   "execution_count": null,
   "metadata": {
    "id": "F3xFjhdbnyWe"
   },
   "outputs": [],
   "source": [
    "def get_days(image):\n",
    "    return image.set('day', ee.Date(ee.Image(image).get('system:time_start')).format('yyyy-MM-dd'))\n",
    "\n",
    "\n",
    "def addHumidity(feature):\n",
    "    # dew point (TD), temperature (T) \n",
    "    T = ee.Number(feature.get('temperature_2m')).subtract(273.15)\n",
    "    TD = ee.Number(feature.get('dewpoint_temperature_2m')).subtract(273.15)\n",
    "    c = ee.Number(243.04)\n",
    "    b = ee.Number(17.625)\n",
    "  \n",
    "    # FORMULA: 100*Math.exp(c*b*(TD-T)/((c+T)*(c+TD)))\n",
    "    return feature.set({'humidity': ee.Number(100).multiply((c.multiply(b).multiply(TD.subtract(T)).divide((c.add(T)).multiply(c.add(TD)))).exp())})    \n",
    "\n",
    "\n",
    "def filter_join(feature):\n",
    "    f = ee.Feature(feature.get('match'))\n",
    "    flag = ee.Algorithms.IsEqual(f, None)\n",
    "    ndvi = ee.Algorithms.If(flag, ee.Dictionary({'NDVI': -999}), f.toDictionary())\n",
    "    return feature.set(ndvi)\n",
    "\n",
    "\n",
    "def remove_match(feature):\n",
    "    properties = feature.propertyNames()\n",
    "    return feature.select(properties.filter(ee.Filter.neq('item', 'match')))\n",
    "\n",
    "    \n",
    "def removeKeys(pair):\n",
    "    f1 = ee.Feature(pair.get('primary'))\n",
    "    f2 = ee.Feature(pair.get('secondary'))\n",
    "    return f1.set(f2.toDictionary())\n",
    "\n",
    "\n",
    "def renameBand(image, band, new_band):\n",
    "    return image.select([band]).rename([new_band])\n",
    "\n",
    "\n",
    "def getMetric(m, collection, startDate, func, vars):\n",
    "    start = ee.Date(startDate).advance(m, 'months')\n",
    "    end   = start.advance(1, 'months')\n",
    "\n",
    "    if func == 'mean':\n",
    "        return collection.select(vars)\\\n",
    "                         .filter(ee.Filter.date(start, end))\\\n",
    "                         .mean()\\\n",
    "                         .set('Date', ee.Date(startDate).advance(m, 'months'))\\\n",
    "                         .set('system:time_start', ee.Date(startDate).advance(m, 'months'))\n",
    "    elif func == 'min':\n",
    "        return collection.select(vars).filter(ee.Filter.date(start, end)).min()\\\n",
    "                         .set('Date', ee.Date(startDate).advance(m, 'months'))\\\n",
    "                         .set('system:time_start', ee.Date(startDate).advance(m, 'months'))\n",
    "    elif func == 'max':\n",
    "        return collection.select(vars).filter(ee.Filter.date(start, end)).max()\\\n",
    "                         .set('Date', ee.Date(startDate).advance(m, 'months'))\\\n",
    "                         .set('system:time_start', ee.Date(startDate).advance(m, 'months'))\n",
    "    else: #func == 'sum'\n",
    "        return collection.select(vars).filter(ee.Filter.date(start, end)).sum()\\\n",
    "                         .set('Date', ee.Date(startDate).advance(m, 'months'))\\\n",
    "                         .set('system:time_start', ee.Date(startDate).advance(m, 'months'))\n",
    "\n",
    "\n",
    "def concat_join(feature):\n",
    "    return ee.Image.cat(feature.get('primary'), feature.get('secondary'))\n",
    "\n",
    "\n",
    "def get_era5land(startDate, endDate):\n",
    "    # Difference between start and end in months \n",
    "    numberOfInstances = endDate.difference(ee.Date(startDate), 'month')\n",
    "    seqInstances = ee.List.sequence(0, numberOfInstances.subtract(1))\n",
    "\n",
    "    collection = ee.ImageCollection('ECMWF/ERA5_LAND/HOURLY')\n",
    "    vars = ee.List(['temperature_2m', 'dewpoint_temperature_2m', 'surface_pressure', 'u_component_of_wind_10m', 'v_component_of_wind_10m'])\n",
    "\n",
    "    era5_mean = ee.ImageCollection.fromImages(seqInstances.map(lambda y: getMetric(y, collection, startDate, 'mean', vars)))\n",
    "    \n",
    "    era5_min = ee.ImageCollection.fromImages(seqInstances.map(lambda y: getMetric(y, collection, startDate, 'min', 'temperature_2m')))\\\n",
    "                                 .map(lambda image: renameBand(image, 'temperature_2m', 'min_temperature_2m'))\n",
    "\n",
    "    era5_max = ee.ImageCollection.fromImages(seqInstances.map(lambda y: getMetric(y, collection, startDate, 'max', 'temperature_2m')))\\\n",
    "                                 .map(lambda image: renameBand(image, 'temperature_2m', 'max_temperature_2m'))\n",
    "\n",
    "    era5_sum = ee.ImageCollection.fromImages(seqInstances.map(lambda y: getMetric(y, collection, startDate, 'sum', 'total_precipitation')))\n",
    "\n",
    "    # Define inner join\n",
    "    innerJoin = ee.Join.inner(primaryKey='primary', secondaryKey='secondary')\n",
    "    filterTimeEq = ee.Filter.equals(leftField='Date', rightField='Date')\n",
    "\n",
    "    join = innerJoin.apply(era5_mean, era5_min, filterTimeEq).map(concat_join)\n",
    "    mid_join = innerJoin.apply(join, era5_max, filterTimeEq).map(concat_join)\n",
    "    era5_land = innerJoin.apply(mid_join, era5_sum, filterTimeEq).map(concat_join)\n",
    "    return era5_land\n",
    "\n",
    "\n",
    "def get_ndvi(starDate, endDate):\n",
    "    # Difference between start and end in months \n",
    "    numberOfInstances = endDate.difference(ee.Date(startDate), 'month')\n",
    "    seqInstances = ee.List.sequence(0, numberOfInstances.subtract(1))\n",
    "\n",
    "    collection = ee.ImageCollection('MODIS/MOD09GA_006_NDVI')\n",
    "    return ee.ImageCollection.fromImages(seqInstances.map(lambda y: getMetric(y, collection, startDate, 'mean', 'NDVI')))\n",
    "\n",
    "\n",
    "def extract_var(image, geometry):\n",
    "    stats = ee.Image(image).reduceRegion(reducer=ee.Reducer.mean(), geometry=geometry, scale=9000)\n",
    "    stats1 = stats.map(lambda key, val: ee.List([val, -999]).reduce(ee.Reducer.firstNonNull()))\n",
    "    return ee.Feature(None, stats1.combine({'Date': ee.Date(ee.Image(image).get('system:time_start')).format('yyyy-MM-dd')}))"
   ]
  },
  {
   "cell_type": "markdown",
   "metadata": {
    "id": "G8ekQDUg_A_3"
   },
   "source": [
    "### 2.2. Main code"
   ]
  },
  {
   "cell_type": "markdown",
   "metadata": {
    "id": "ydVSTNs2x9Op"
   },
   "source": [
    "#### 2.2.1. Brazil"
   ]
  },
  {
   "cell_type": "code",
   "execution_count": null,
   "metadata": {
    "id": "RmepHafFWzAQ"
   },
   "outputs": [],
   "source": [
    "startDate = ee.Date('2000-01-01')\n",
    "endDate = ee.Date('2020-01-01')\n",
    "\n",
    "# retrieve table with shapefiles info\n",
    "table = ee.FeatureCollection(\"users/raquelarscarmo/BR_Municipios_2020\")\n",
    "\n",
    "# extract list of regions by code\n",
    "regions = table.aggregate_array(\"CD_MUN\").distinct()\n",
    "\n",
    "era5Land_monthly = get_era5land(startDate, endDate)\n",
    "ndvi_monthly = get_ndvi(ee.Date('2000-02-01'), endDate)\n",
    "\n",
    "# loop over the regions\n",
    "for index_region in range(0, regions.size().getInfo()):\n",
    "    print(index_region)\n",
    "\n",
    "    # get region ID\n",
    "    region_ID = ee.String(regions.get(index_region))\n",
    "    region = ee.Feature(ee.List(table.toList(table.size())).get(index_region))\n",
    "    geometry = region.geometry()\n",
    "\n",
    "    # monthly stats from ERA5-Land\n",
    "    era5LandStats = ee.FeatureCollection(era5Land_monthly\\\n",
    "                                            .map(lambda image: extract_var(image, geometry)))\\\n",
    "                                            .map(addHumidity)\n",
    "\n",
    "    # monthly NDVI (only available from February 2000)\n",
    "    firstNDVI = ee.FeatureCollection([ee.Feature(None, ee.Dictionary({'Date': ee.Date('2000-01-01').format('yyyy-MM-dd'), 'NDVI': -999}))])\n",
    "    ndvi = ee.FeatureCollection(ndvi_monthly.map(lambda image: extract_var(image, geometry)))\n",
    "    ndviStats = firstNDVI.merge(ndvi)\n",
    "\n",
    "    # Join ERA5-Land Collection and NDVI Collection\n",
    "    saveFirst = ee.Join.saveFirst(matchKey='match', ordering='system:time_start', ascending=True, measureKey=None, outer=True)\n",
    "\n",
    "    # Specify an equals filter for image timestamps\n",
    "    filterTimeEq = ee.Filter.equals(leftField='Date', rightField='Date')\n",
    "\n",
    "    timeSeries = saveFirst.apply(era5LandStats, ndviStats, filterTimeEq).map(filter_join).map(remove_match)\n",
    "\n",
    "    # Export timeseries to Google Drive\n",
    "    task = ee.batch.Export.table.toDrive(**{\n",
    "            'collection': timeSeries,\n",
    "            'description': 'ERA5_NDVI_collection_' + region_ID.getInfo(),\n",
    "            'fileFormat': 'CSV',\n",
    "            'folder': config['out_brazil']\n",
    "            })\n",
    "\n",
    "    # run tasks automatically\n",
    "    task.start()\n",
    "    print(task.status())"
   ]
  },
  {
   "cell_type": "markdown",
   "metadata": {
    "id": "KFdwdUJpyKVV"
   },
   "source": [
    "#### 2.2.2. Peru"
   ]
  },
  {
   "cell_type": "code",
   "execution_count": null,
   "metadata": {
    "id": "wYMMfvSayM8J"
   },
   "outputs": [],
   "source": [
    "startDate = ee.Date('2010-01-01')\n",
    "endDate = ee.Date('2020-02-01')\n",
    "\n",
    "# retrieve table with shapefiles info\n",
    "# List of Department codes (ADM1_PCODE)\n",
    "# Loreto - PE16\n",
    "# Madre de Dios - PE17\n",
    "# Piura - PE20\n",
    "# San Martin - PE22\n",
    "# Tumbes - PE24\n",
    "# Ucayali - PE25\n",
    "table = ee.FeatureCollection(\"users/raquelarscarmo/PROVINCES\")\n",
    "tablefiltered = table.filter(ee.Filter.inList('ADM1_PCODE', ee.List(['PE16', 'PE17', 'PE20', 'PE22', 'PE24', 'PE25'])))\n",
    "\n",
    "era5Land_monthly = get_era5land(startDate, endDate)\n",
    "ndvi_monthly = get_ndvi(startDate, endDate)\n",
    "\n",
    "# extract list of regions by code\n",
    "regions = tablefiltered.aggregate_array(\"ADM2_PCODE\").distinct()\n",
    "\n",
    "# loop over the regions\n",
    "for index_region in range(0, regions.size().getInfo()):\n",
    "    print(index_region)\n",
    "\n",
    "    # get region ID\n",
    "    region_ID = ee.String(regions.get(index_region))\n",
    "    region = ee.Feature(ee.List(tablefiltered.toList(tablefiltered.size())).get(index_region))\n",
    "    geometry = region.geometry()\n",
    "\n",
    "    # monthly stats from ERA5-Land\n",
    "    era5LandStats = ee.FeatureCollection(era5Land_monthly.map(lambda image: extract_var(image, geometry)))\\\n",
    "                                                         .map(addHumidity)\n",
    "\n",
    "    # monthly NDVI\n",
    "    ndviStats = ee.FeatureCollection(ndvi_monthly.map(lambda image: extract_var(image, geometry)))\n",
    "\n",
    "    # Join ERA5 Collection and NO2 Collection\n",
    "    saveFirst = ee.Join.saveFirst(matchKey='match', ordering='system:time_start', ascending=True, measureKey=None, outer=True)\n",
    "\n",
    "    # Specify an equals filter for image timestamps\n",
    "    filterTimeEq = ee.Filter.equals(leftField='Date', rightField='Date')\n",
    "\n",
    "    timeSeries = saveFirst.apply(era5LandStats, ndviStats, filterTimeEq).map(filter_join).map(remove_match)\n",
    "\n",
    "    # Export timeseries to Google Drive\n",
    "    task = ee.batch.Export.table.toDrive(**{\n",
    "            'collection': timeSeries,\n",
    "            'description': 'ERA5land_NDVI_collection_' + region_ID.getInfo(),\n",
    "            'fileFormat': 'CSV',\n",
    "            'folder': config['out_peru']\n",
    "            })\n",
    "\n",
    "    # run tasks automatically\n",
    "    task.start()\n",
    "    print(task.status())"
   ]
  },
  {
   "cell_type": "markdown",
   "metadata": {
    "id": "3uQawXgWH6-5"
   },
   "source": [
    "#### Control of Earth Engine tasks"
   ]
  },
  {
   "cell_type": "code",
   "execution_count": null,
   "metadata": {
    "id": "vHO8jQGWNNYn"
   },
   "outputs": [],
   "source": [
    "!earthengine task list"
   ]
  },
  {
   "cell_type": "code",
   "execution_count": null,
   "metadata": {
    "id": "0jHDYgljQKQm"
   },
   "outputs": [],
   "source": [
    "!earthengine task cancel all"
   ]
  },
  {
   "cell_type": "markdown",
   "metadata": {},
   "source": [
    "Run the remaining code cells once all files have been successfully downloaded."
   ]
  },
  {
   "cell_type": "markdown",
   "metadata": {
    "id": "fKbTlpEWXmdE"
   },
   "source": [
    "## 3. Gather and merge time series from all cities"
   ]
  },
  {
   "cell_type": "markdown",
   "metadata": {
    "id": "tFuSTcLpWqiK"
   },
   "source": [
    "### 3.1. Brazil: Merge all dataframes"
   ]
  },
  {
   "cell_type": "code",
   "execution_count": null,
   "metadata": {
    "colab": {
     "base_uri": "https://localhost:8080/"
    },
    "executionInfo": {
     "elapsed": 722,
     "status": "ok",
     "timestamp": 1643279330699,
     "user": {
      "displayName": "Raquel Carmo",
      "photoUrl": "https://lh3.googleusercontent.com/a-/AOh14GgUUTZlzR-089p-AQlc4K-YNrw3DWlq1fWmuzLsdfI=s64",
      "userId": "09214858898201854328"
     },
     "user_tz": -60
    },
    "id": "LaKC4syjXnE1",
    "outputId": "111298f3-4413-49a4-a503-ae73bee79a53"
   },
   "outputs": [],
   "source": [
    "csv_files = sorted(glob(join(config['out_brazil'], \"*.csv\")))\n",
    "print(f'Number of csv files in folder \"{config['out_brazil']}\":', len(csv_files))"
   ]
  },
  {
   "cell_type": "markdown",
   "metadata": {
    "id": "RD9mUxrlWloj"
   },
   "source": [
    "#### 3.1.1. Brazilian cities without ERA5-land"
   ]
  },
  {
   "cell_type": "code",
   "execution_count": null,
   "metadata": {
    "colab": {
     "base_uri": "https://localhost:8080/"
    },
    "executionInfo": {
     "elapsed": 1645,
     "status": "ok",
     "timestamp": 1633938010536,
     "user": {
      "displayName": "Raquel Carmo",
      "photoUrl": "https://lh3.googleusercontent.com/a-/AOh14GgUUTZlzR-089p-AQlc4K-YNrw3DWlq1fWmuzLsdfI=s64",
      "userId": "09214858898201854328"
     },
     "user_tz": -120
    },
    "id": "wlsRbNs7PFc8",
    "outputId": "72630f84-05d1-4053-c42a-b962622892f2"
   },
   "outputs": [],
   "source": [
    "processed_files = [os.path.basename(x).split('_', 3)[-1].split('.')[0] for x in csv_files]\n",
    "\n",
    "# retrieve table with shapefiles info\n",
    "table = ee.FeatureCollection(\"users/raquelarscarmo/BR_Municipios_2020\")\n",
    "\n",
    "# extract list of regions by code\n",
    "all = table.aggregate_array(\"CD_MUN\").distinct().getInfo()\n",
    "\n",
    "non_processed = [file for file in all if file not in processed_files]\n",
    "print('Municipios without ERA5-land:', non_processed)\n",
    "\n",
    "# RegionID == '2605459' refers to Fernando de Noronha which is an island, so we can ignore this one\n",
    "geo2buffer = [x for x in non_processed if x != '2605459']\n",
    "print('Municipios to run with 10km buffer:', geo2buffer)"
   ]
  },
  {
   "cell_type": "markdown",
   "metadata": {},
   "source": [
    "Create a 10km buffer around each city without ERA5-land and re-download the data."
   ]
  },
  {
   "cell_type": "code",
   "execution_count": null,
   "metadata": {
    "id": "kz3tkIb4RLwe"
   },
   "outputs": [],
   "source": [
    "startDate = ee.Date('2000-01-01')\n",
    "endDate = ee.Date('2020-01-01')\n",
    "\n",
    "era5Land_monthly = get_era5land(startDate, endDate)\n",
    "ndvi_monthly = get_ndvi(ee.Date('2000-02-01'), endDate)\n",
    "\n",
    "# extract list of regions by code\n",
    "regions = table.aggregate_array(\"CD_MUN\").distinct()\n",
    "\n",
    "# loop over the regions\n",
    "for index_region in range(0, regions.size().getInfo()):\n",
    "    #print(index_region)\n",
    "\n",
    "    # get region ID\n",
    "    region_ID = ee.String(regions.get(index_region)).getInfo()\n",
    "    if region_ID in geo2buffer:\n",
    "        print(region_ID)\n",
    "        region = ee.Feature(ee.List(table.toList(table.size())).get(index_region))\n",
    "        geometry = region.geometry()\n",
    "        buffered_geo = geometry.buffer(distance=10000)\n",
    "\n",
    "        # monthly stats from ERA5-Land\n",
    "        era5LandStats = ee.FeatureCollection(era5Land_monthly\\\n",
    "                                                .map(lambda image: extract_var(image, buffered_geo)))\\\n",
    "                                                .map(addHumidity)\n",
    "\n",
    "        # monthly NDVI (only available from Febuary 2000)\n",
    "        firstNDVI = ee.FeatureCollection([ee.Feature(None, ee.Dictionary({'Date': ee.Date('2000-01-01').format('yyyy-MM-dd'), 'NDVI': -999}))])\n",
    "        ndvi = ee.FeatureCollection(ndvi_monthly.map(lambda image: extract_var(image, buffered_geo)))\n",
    "        ndviStats = firstNDVI.merge(ndvi)\n",
    "\n",
    "        # Join ERA5-Land Collection and NDVI Collection\n",
    "        saveFirst = ee.Join.saveFirst(matchKey='match', ordering='system:time_start', ascending=True, measureKey=None, outer=True)\n",
    "\n",
    "        # Specify an equals filter for image timestamps\n",
    "        filterTimeEq = ee.Filter.equals(leftField='Date', rightField='Date')\n",
    "\n",
    "        timeSeries = saveFirst.apply(era5LandStats, ndviStats, filterTimeEq).map(filter_join).map(remove_match)\n",
    "\n",
    "        # Export timeseries to Google Drive\n",
    "        task = ee.batch.Export.table.toDrive(**{\n",
    "                'collection': timeSeries,\n",
    "                'description': 'ERA5_NDVI_collection_' + region_ID,\n",
    "                'fileFormat': 'CSV',\n",
    "                'folder': config['out_brazil']\n",
    "                })\n",
    "\n",
    "        # run tasks automatically\n",
    "        task.start()\n",
    "        print(task.status())"
   ]
  },
  {
   "cell_type": "markdown",
   "metadata": {},
   "source": [
    "Run the remaining code cells once all files have been successfully downloaded."
   ]
  },
  {
   "cell_type": "code",
   "execution_count": null,
   "metadata": {
    "colab": {
     "base_uri": "https://localhost:8080/"
    },
    "executionInfo": {
     "elapsed": 36586,
     "status": "ok",
     "timestamp": 1633960107567,
     "user": {
      "displayName": "Raquel Carmo",
      "photoUrl": "https://lh3.googleusercontent.com/a-/AOh14GgUUTZlzR-089p-AQlc4K-YNrw3DWlq1fWmuzLsdfI=s64",
      "userId": "09214858898201854328"
     },
     "user_tz": -120
    },
    "id": "r-sQAQ62Ww6z",
    "outputId": "738b4215-484a-4985-ea96-162ea97710b4"
   },
   "outputs": [],
   "source": [
    "csv_files = sorted(glob(join(config['out_brazil'], \"*.csv\")))\n",
    "print(f'Number of csv files in folder \"{config['out_brazil']}\":', len(csv_files))"
   ]
  },
  {
   "cell_type": "code",
   "execution_count": null,
   "metadata": {
    "colab": {
     "base_uri": "https://localhost:8080/",
     "height": 423
    },
    "executionInfo": {
     "elapsed": 231,
     "status": "ok",
     "timestamp": 1633961970292,
     "user": {
      "displayName": "Raquel Carmo",
      "photoUrl": "https://lh3.googleusercontent.com/a-/AOh14GgUUTZlzR-089p-AQlc4K-YNrw3DWlq1fWmuzLsdfI=s64",
      "userId": "09214858898201854328"
     },
     "user_tz": -120
    },
    "id": "d3eeumzEmlpO",
    "outputId": "c8f5551f-5d39-4f93-d88b-9b7552d6a8dd"
   },
   "outputs": [],
   "source": [
    "# get dataframe with names and codes of the Cities\n",
    "df_mun = pd.read_csv(join(config['main_brazil'], \"BR_Municipios_2020.csv\"), encoding='iso-8859-1', converters={'CD_MUN':str})\n",
    "df_mun"
   ]
  },
  {
   "cell_type": "code",
   "execution_count": null,
   "metadata": {
    "colab": {
     "base_uri": "https://localhost:8080/",
     "height": 896
    },
    "executionInfo": {
     "elapsed": 233,
     "status": "ok",
     "timestamp": 1633961972326,
     "user": {
      "displayName": "Raquel Carmo",
      "photoUrl": "https://lh3.googleusercontent.com/a-/AOh14GgUUTZlzR-089p-AQlc4K-YNrw3DWlq1fWmuzLsdfI=s64",
      "userId": "09214858898201854328"
     },
     "user_tz": -120
    },
    "id": "a-tf3nscmxfU",
    "outputId": "f38c3bf0-cbcb-4b58-b535-914c117204ad"
   },
   "outputs": [],
   "source": [
    "# get dataframe with names and codes of the States\n",
    "df_uf = pd.read_csv(join(config['main_brazil'], \"BR_UF_2020.csv\"), encoding='iso-8859-1')\n",
    "df_uf"
   ]
  },
  {
   "cell_type": "code",
   "execution_count": null,
   "metadata": {
    "colab": {
     "base_uri": "https://localhost:8080/",
     "height": 423
    },
    "executionInfo": {
     "elapsed": 218,
     "status": "ok",
     "timestamp": 1633961974148,
     "user": {
      "displayName": "Raquel Carmo",
      "photoUrl": "https://lh3.googleusercontent.com/a-/AOh14GgUUTZlzR-089p-AQlc4K-YNrw3DWlq1fWmuzLsdfI=s64",
      "userId": "09214858898201854328"
     },
     "user_tz": -120
    },
    "id": "SY6Ri5vnmx6q",
    "outputId": "6ead4725-69d3-4a7e-9f21-e02b06402820"
   },
   "outputs": [],
   "source": [
    "# merge Cities and States into one dataframe\n",
    "df_regions = pd.merge(df_uf, df_mun, how='inner', on='SIGLA_UF').rename(columns={'AREA_KM2': 'area_km2'})[['CD_UF', 'CD_MUN', 'area_km2']]\n",
    "df_regions"
   ]
  },
  {
   "cell_type": "code",
   "execution_count": null,
   "metadata": {
    "colab": {
     "base_uri": "https://localhost:8080/",
     "height": 441
    },
    "executionInfo": {
     "elapsed": 1903120,
     "status": "ok",
     "timestamp": 1633963883978,
     "user": {
      "displayName": "Raquel Carmo",
      "photoUrl": "https://lh3.googleusercontent.com/a-/AOh14GgUUTZlzR-089p-AQlc4K-YNrw3DWlq1fWmuzLsdfI=s64",
      "userId": "09214858898201854328"
     },
     "user_tz": -120
    },
    "id": "FyEuk0ZZpRhj",
    "outputId": "e1d531c1-fb2b-40dd-f0b2-98d2c8efd1f6"
   },
   "outputs": [],
   "source": [
    "fullTimeSeries = None\n",
    "municipiosLeftOut = []\n",
    "for file in csv_files:\n",
    "    df = pd.read_csv(file).drop(columns=['system:index', '.geo'], axis=1)\n",
    "    df.replace({-999: np.nan}, inplace=True)\n",
    "\n",
    "    municipioCode = os.path.basename(file).split('_', 3)[-1].split('.')[0]\n",
    "    df.insert(0, 'CD_MUN', value = municipioCode)\n",
    "\n",
    "    if df['temperature_2m'].isnull().values.all():\n",
    "        print(f\"{municipioCode}: This station doesn't have ERA5-Land data\")\n",
    "        municipiosLeftOut.append(municipioCode)\n",
    "        continue\n",
    "\n",
    "    df2 = pd.merge(df_regions, df, how='inner', on='CD_MUN')\n",
    "    fullTimeSeries = pd.concat([fullTimeSeries, df2], ignore_index=True)\n",
    "\n",
    "print('Municipios left out:', municipiosLeftOut)\n",
    "fullTimeSeries"
   ]
  },
  {
   "cell_type": "code",
   "execution_count": null,
   "metadata": {
    "id": "uhflyOU5pmlq"
   },
   "outputs": [],
   "source": [
    "fullTimeSeries.to_csv(join(config['main_brazil'], 'ERA5land_NDVI_monthly_cities_Brazil.csv'), index=False)"
   ]
  },
  {
   "cell_type": "markdown",
   "metadata": {
    "id": "7SaEwj46Fj3P"
   },
   "source": [
    "### 3.3. Peru: Merge all dataframes"
   ]
  },
  {
   "cell_type": "code",
   "execution_count": null,
   "metadata": {
    "colab": {
     "base_uri": "https://localhost:8080/"
    },
    "executionInfo": {
     "elapsed": 524,
     "status": "ok",
     "timestamp": 1643405088270,
     "user": {
      "displayName": "Raquel Carmo",
      "photoUrl": "https://lh3.googleusercontent.com/a-/AOh14GgUUTZlzR-089p-AQlc4K-YNrw3DWlq1fWmuzLsdfI=s64",
      "userId": "09214858898201854328"
     },
     "user_tz": -60
    },
    "id": "BU31lyLHFpVD",
    "outputId": "b9e66018-760c-4301-a734-6469ef4d40a7"
   },
   "outputs": [],
   "source": [
    "csv_files = sorted(glob(join(config['out_peru'], \"*.csv\")))\n",
    "print(f'Number of csv files in folder \"{config['out_peru']}\":', len(csv_files))"
   ]
  },
  {
   "cell_type": "code",
   "execution_count": null,
   "metadata": {
    "colab": {
     "base_uri": "https://localhost:8080/",
     "height": 424
    },
    "executionInfo": {
     "elapsed": 451,
     "status": "ok",
     "timestamp": 1643405089612,
     "user": {
      "displayName": "Raquel Carmo",
      "photoUrl": "https://lh3.googleusercontent.com/a-/AOh14GgUUTZlzR-089p-AQlc4K-YNrw3DWlq1fWmuzLsdfI=s64",
      "userId": "09214858898201854328"
     },
     "user_tz": -60
    },
    "id": "5Pc3GdssJwaH",
    "outputId": "e47675df-e24a-42a5-cb8c-008d01618327"
   },
   "outputs": [],
   "source": [
    "df_regions = pd.read_csv(join(config['main_peru'], \"Peru_DepID_ProvID.csv\"), encoding='iso-8859-1')\\\n",
    "                .drop(columns=['ADM0_EN', 'ADM0_PCODE', 'ADM1_ES', 'ADM2_ES', 'Shape_Area'], axis=1)\n",
    "df_regions"
   ]
  },
  {
   "cell_type": "code",
   "execution_count": null,
   "metadata": {
    "colab": {
     "base_uri": "https://localhost:8080/",
     "height": 441
    },
    "executionInfo": {
     "elapsed": 893,
     "status": "ok",
     "timestamp": 1643405306300,
     "user": {
      "displayName": "Raquel Carmo",
      "photoUrl": "https://lh3.googleusercontent.com/a-/AOh14GgUUTZlzR-089p-AQlc4K-YNrw3DWlq1fWmuzLsdfI=s64",
      "userId": "09214858898201854328"
     },
     "user_tz": -60
    },
    "id": "738BrrvYF5Z0",
    "outputId": "2694f18e-e424-4791-940f-a3f03af2e6b7"
   },
   "outputs": [],
   "source": [
    "fullTimeSeries = None\n",
    "provincesLeftOut = []\n",
    "\n",
    "for file in csv_files:\n",
    "    #print(file)\n",
    "    df = pd.read_csv(file).drop(columns=['system:index', '.geo'], axis=1)\n",
    "    df.replace({-999: np.nan}, inplace=True)\n",
    "    df = df[df.Date != '2020-01-01']\n",
    "\n",
    "    code = os.path.basename(file).split('_')[-1].split('.')[0]\n",
    "    df.insert(0, 'ADM2_PCODE', value=code)\n",
    "\n",
    "    if df['temperature_2m'].isnull().values.all():\n",
    "        print(f\"{code}: This station doesn't have ERA5-Land data\")\n",
    "        provincesLeftOut.append(code)\n",
    "        continue\n",
    "\n",
    "    df2 = pd.merge(df_regions, df, how='inner', on='ADM2_PCODE')\n",
    "    fullTimeSeries = pd.concat([fullTimeSeries, df2], ignore_index=True)\n",
    "\n",
    "print('Provinces left out:', provincesLeftOut)\n",
    "fullTimeSeries"
   ]
  },
  {
   "cell_type": "code",
   "execution_count": null,
   "metadata": {
    "id": "d8dhAbw4UWoC"
   },
   "outputs": [],
   "source": [
    "fullTimeSeries.to_csv(join(config['main_peru'], 'ERA5land_NDVI_monthly_provinces_Peru.csv'), index=False)"
   ]
  },
  {
   "cell_type": "markdown",
   "metadata": {
    "id": "yCROLfz6G6HQ"
   },
   "source": [
    "## 4. State centroids and distances"
   ]
  },
  {
   "cell_type": "code",
   "execution_count": null,
   "metadata": {
    "colab": {
     "base_uri": "https://localhost:8080/",
     "height": 423
    },
    "executionInfo": {
     "elapsed": 954,
     "status": "ok",
     "timestamp": 1633707680475,
     "user": {
      "displayName": "Raquel Carmo",
      "photoUrl": "https://lh3.googleusercontent.com/a-/AOh14GgUUTZlzR-089p-AQlc4K-YNrw3DWlq1fWmuzLsdfI=s64",
      "userId": "09214858898201854328"
     },
     "user_tz": -120
    },
    "id": "GSRCe3imG8hI",
    "outputId": "a4dd9e6a-5188-47c2-ca36-ae4ebfeb818f"
   },
   "outputs": [],
   "source": [
    "df = pd.read_csv(join(config['main_brazil'], \"BR_UF_distCentroids.csv\"), converters={'CD_UF':str, 'neighboringState':str})[['CD_UF', 'neighboringState', 'distance']]\n",
    "df.drop(df[df.CD_UF\t== df.neighboringState].index, inplace=True)\n",
    "df"
   ]
  },
  {
   "cell_type": "code",
   "execution_count": null,
   "metadata": {
    "colab": {
     "base_uri": "https://localhost:8080/",
     "height": 423
    },
    "executionInfo": {
     "elapsed": 260,
     "status": "ok",
     "timestamp": 1633708016628,
     "user": {
      "displayName": "Raquel Carmo",
      "photoUrl": "https://lh3.googleusercontent.com/a-/AOh14GgUUTZlzR-089p-AQlc4K-YNrw3DWlq1fWmuzLsdfI=s64",
      "userId": "09214858898201854328"
     },
     "user_tz": -120
    },
    "id": "BHBZkilfjwXw",
    "outputId": "9b832a2b-8add-48b4-962d-36c37bd3a4d0"
   },
   "outputs": [],
   "source": [
    "df1 = df.sort_values(['CD_UF', 'distance'], ascending=True).groupby('CD_UF').head(7)\n",
    "df1.reset_index(drop=True, inplace=True)\n",
    "df1"
   ]
  },
  {
   "cell_type": "code",
   "execution_count": null,
   "metadata": {
    "id": "SMECPbZUjyZA"
   },
   "outputs": [],
   "source": [
    "df1.to_csv(join(config['main_brazil'], \"BR_UF_7ClosestNeighbors.csv\"), index=False)"
   ]
  }
 ],
 "metadata": {
  "colab": {
   "collapsed_sections": [
    "FN7b3RwG_jUv",
    "RD9mUxrlWloj",
    "tFuSTcLpWqiK",
    "yCROLfz6G6HQ"
   ],
   "name": "ERA5land_NDVI_monthly_Brazil_Peru.ipynb",
   "provenance": []
  },
  "kernelspec": {
   "display_name": "Python 3",
   "language": "python",
   "name": "python3"
  },
  "language_info": {
   "codemirror_mode": {
    "name": "ipython",
    "version": 3
   },
   "file_extension": ".py",
   "mimetype": "text/x-python",
   "name": "python",
   "nbconvert_exporter": "python",
   "pygments_lexer": "ipython3",
   "version": "3.8.6"
  }
 },
 "nbformat": 4,
 "nbformat_minor": 4
}
