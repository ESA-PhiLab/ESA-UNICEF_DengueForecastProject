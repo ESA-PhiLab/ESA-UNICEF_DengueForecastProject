{
 "cells": [
  {
   "cell_type": "markdown",
   "metadata": {
    "id": "D4P67Kx6CQse"
   },
   "source": [
    "# Data fusion for Brazil"
   ]
  },
  {
   "cell_type": "markdown",
   "metadata": {
    "id": "rOp3z1XwgNzl"
   },
   "source": [
    "## **1.** Authentications and imports"
   ]
  },
  {
   "cell_type": "code",
   "execution_count": null,
   "metadata": {
    "colab": {
     "base_uri": "https://localhost:8080/"
    },
    "executionInfo": {
     "elapsed": 338,
     "status": "ok",
     "timestamp": 1637069201588,
     "user": {
      "displayName": "Raquel Carmo",
      "photoUrl": "https://lh3.googleusercontent.com/a-/AOh14GgUUTZlzR-089p-AQlc4K-YNrw3DWlq1fWmuzLsdfI=s64",
      "userId": "09214858898201854328"
     },
     "user_tz": -60
    },
    "id": "7CfpIZtAB6WG",
    "outputId": "d868bbe1-e159-4d28-bcfd-b799b7051183"
   },
   "outputs": [],
   "source": [
    "# insert your desired path to work on\n",
    "import os\n",
    "from os.path import join\n",
    "project_path = os.path.dirname(os.getcwd())\n",
    "os.chdir(join('..','..','data'))\n",
    "os.getcwd()"
   ]
  },
  {
   "cell_type": "markdown",
   "metadata": {},
   "source": [
    "Import necessary python libraries."
   ]
  },
  {
   "cell_type": "code",
   "execution_count": null,
   "metadata": {
    "id": "71eqlwwLCCh2"
   },
   "outputs": [],
   "source": [
    "!pip install pyreadr geopandas geoplot --quiet\n",
    "import geopandas as gpd\n",
    "import geoplot as gplt\n",
    "import geoplot.crs as gcrs\n",
    "import pyreadr\n",
    "import numpy as np\n",
    "import glob\n",
    "import pandas as pd\n",
    "import pprint\n",
    "import seaborn as sns\n",
    "import matplotlib\n",
    "import matplotlib.cm as cm\n",
    "import matplotlib.pyplot as plt\n",
    "import matplotlib.colors as colors\n",
    "from matplotlib.colors import Normalize\n",
    "\n",
    "pp = pprint.PrettyPrinter(indent=4)\n",
    "%matplotlib inline"
   ]
  },
  {
   "cell_type": "markdown",
   "metadata": {},
   "source": [
    "Set folder structure."
   ]
  },
  {
   "cell_type": "code",
   "execution_count": null,
   "metadata": {},
   "outputs": [],
   "source": [
    "config = {\n",
    "    'main_brazil': 'Brazil',\n",
    "    'main_peru': 'Peru'\n",
    "}\n",
    "\n",
    "# List comprehension for the folder structure code\n",
    "[os.makedirs(val, exist_ok=True) for key, val in config.items()]"
   ]
  },
  {
   "cell_type": "markdown",
   "metadata": {
    "id": "A7WwxfbyCWj9"
   },
   "source": [
    "## **2.** Load and clean data"
   ]
  },
  {
   "cell_type": "markdown",
   "metadata": {
    "id": "n2ONpkHBA2E8"
   },
   "source": [
    "### 2.0. Regions data"
   ]
  },
  {
   "cell_type": "code",
   "execution_count": null,
   "metadata": {
    "colab": {
     "base_uri": "https://localhost:8080/",
     "height": 865
    },
    "executionInfo": {
     "elapsed": 328,
     "status": "ok",
     "timestamp": 1637069263684,
     "user": {
      "displayName": "Raquel Carmo",
      "photoUrl": "https://lh3.googleusercontent.com/a-/AOh14GgUUTZlzR-089p-AQlc4K-YNrw3DWlq1fWmuzLsdfI=s64",
      "userId": "09214858898201854328"
     },
     "user_tz": -60
    },
    "id": "Z31XE2z0_-Hf",
    "outputId": "1f418711-8816-4d94-e0d3-520adac5b51b"
   },
   "outputs": [],
   "source": [
    "UF_df = pd.read_csv(join(config['main_brazil'], \"BR_UF_2020.csv\"), encoding='iso-8859-1', converters={'CD_UF':str})\n",
    "UF_df"
   ]
  },
  {
   "cell_type": "code",
   "execution_count": null,
   "metadata": {
    "colab": {
     "base_uri": "https://localhost:8080/",
     "height": 200
    },
    "executionInfo": {
     "elapsed": 5,
     "status": "ok",
     "timestamp": 1637069264067,
     "user": {
      "displayName": "Raquel Carmo",
      "photoUrl": "https://lh3.googleusercontent.com/a-/AOh14GgUUTZlzR-089p-AQlc4K-YNrw3DWlq1fWmuzLsdfI=s64",
      "userId": "09214858898201854328"
     },
     "user_tz": -60
    },
    "id": "3FSPEpM1APXf",
    "outputId": "e63d49ff-1ae1-45bd-cc53-91a89377e508"
   },
   "outputs": [],
   "source": [
    "MUN_df = pd.read_csv(join(config['main_brazil'], \"BR_Municipios_2020.csv\"), encoding='iso-8859-1', converters={'CD_MUN':str})\n",
    "MUN_df[\"CD_MUN\"] = MUN_df[\"CD_MUN\"].apply(lambda x: x.replace(x, x[:6]))\n",
    "MUN_df.head()"
   ]
  },
  {
   "cell_type": "code",
   "execution_count": null,
   "metadata": {
    "colab": {
     "base_uri": "https://localhost:8080/",
     "height": 200
    },
    "executionInfo": {
     "elapsed": 5,
     "status": "ok",
     "timestamp": 1637069264068,
     "user": {
      "displayName": "Raquel Carmo",
      "photoUrl": "https://lh3.googleusercontent.com/a-/AOh14GgUUTZlzR-089p-AQlc4K-YNrw3DWlq1fWmuzLsdfI=s64",
      "userId": "09214858898201854328"
     },
     "user_tz": -60
    },
    "id": "anon-DksAQdx",
    "outputId": "2b7c41bf-c133-46ef-ff30-627bc397e1c3"
   },
   "outputs": [],
   "source": [
    "regions_df = pd.merge(UF_df, MUN_df, on='SIGLA_UF', how='inner')\n",
    "regions_df.head()"
   ]
  },
  {
   "cell_type": "markdown",
   "metadata": {
    "id": "CWQZnk04QkCy"
   },
   "source": [
    "### 2.1. Population data"
   ]
  },
  {
   "cell_type": "code",
   "execution_count": null,
   "metadata": {
    "colab": {
     "base_uri": "https://localhost:8080/",
     "height": 200
    },
    "executionInfo": {
     "elapsed": 585,
     "status": "ok",
     "timestamp": 1637069267104,
     "user": {
      "displayName": "Raquel Carmo",
      "photoUrl": "https://lh3.googleusercontent.com/a-/AOh14GgUUTZlzR-089p-AQlc4K-YNrw3DWlq1fWmuzLsdfI=s64",
      "userId": "09214858898201854328"
     },
     "user_tz": -60
    },
    "id": "VXBEzMePQqiQ",
    "outputId": "cc330628-d082-4542-b4ee-63edbd299f40"
   },
   "outputs": [],
   "source": [
    "pop_df = pd.read_excel(join(config['main_brazil'], \"Pop_Total_2010.xlsx\"))\\\n",
    "           .rename(columns={'Cod6':'CD_MUN', \n",
    "                            'Pop_Total_0_19':'Pop0_19', \n",
    "                            'Pop_Total_20More':'Pop20_99', \n",
    "                            'Pop_Total':'PopTotal'})\\\n",
    "           .drop('Município', axis=1)\\\n",
    "           .sort_values('CD_MUN', ignore_index=True)\n",
    "pop_df.head()"
   ]
  },
  {
   "cell_type": "code",
   "execution_count": null,
   "metadata": {
    "colab": {
     "base_uri": "https://localhost:8080/",
     "height": 216
    },
    "executionInfo": {
     "elapsed": 910,
     "status": "ok",
     "timestamp": 1637069268011,
     "user": {
      "displayName": "Raquel Carmo",
      "photoUrl": "https://lh3.googleusercontent.com/a-/AOh14GgUUTZlzR-089p-AQlc4K-YNrw3DWlq1fWmuzLsdfI=s64",
      "userId": "09214858898201854328"
     },
     "user_tz": -60
    },
    "id": "gs_iRrCLSSec",
    "outputId": "ea83d6e3-09ab-4816-c7ad-3f796664222a"
   },
   "outputs": [],
   "source": [
    "urban_df = pd.read_excel(join(config['main_brazil'], \"Pop_Urban_2010.xlsx\"))\\\n",
    "             .rename(columns={'Cod6':'CD_MUN', \n",
    "                              'Pop_Urban_0_19':'Pop0_19_Urban', \n",
    "                              'Pop_Urban_20More':'Pop20_99_Urban', \n",
    "                              'Total_Pop_Urban':'PopTotal_Urban'})\\\n",
    "             .drop('Município', axis=1)\n",
    "\n",
    "rural_df = pd.read_excel('Pop_Rural_2010.xlsx')\\\n",
    "             .rename(columns={'Cod6':'CD_MUN', \n",
    "                              'Pop_Rural_0_19':'Pop0_19_Rural', \n",
    "                              'Pop_Rural_20More':'Pop20_99_Rural', \n",
    "                              'Total':'PopTotal_Rural'})\\\n",
    "             .drop('Município', axis=1)\n",
    "try:\n",
    "    assert len(urban_df.CD_MUN.unique())==len(rural_df.CD_MUN.unique())\n",
    "except AssertionError:\n",
    "    print('AssertionError: Number of municipalities is not the same in both dataframes.')\n",
    "\n",
    "popUrbRur_df = pd.merge(urban_df, rural_df, on='CD_MUN', how='left').sort_values('CD_MUN', ignore_index=True) \\\n",
    "                 .merge(pop_df, on='CD_MUN', how='right')\n",
    "popUrbRur_df.head()"
   ]
  },
  {
   "cell_type": "code",
   "execution_count": null,
   "metadata": {
    "colab": {
     "base_uri": "https://localhost:8080/"
    },
    "executionInfo": {
     "elapsed": 16,
     "status": "ok",
     "timestamp": 1637069268012,
     "user": {
      "displayName": "Raquel Carmo",
      "photoUrl": "https://lh3.googleusercontent.com/a-/AOh14GgUUTZlzR-089p-AQlc4K-YNrw3DWlq1fWmuzLsdfI=s64",
      "userId": "09214858898201854328"
     },
     "user_tz": -60
    },
    "id": "nPIj8CWMULIR",
    "outputId": "f3f68a4c-a044-4110-90b6-a8196df14253"
   },
   "outputs": [],
   "source": [
    "popUrbRur_df.isna().sum()"
   ]
  },
  {
   "cell_type": "code",
   "execution_count": null,
   "metadata": {
    "colab": {
     "base_uri": "https://localhost:8080/",
     "height": 408
    },
    "executionInfo": {
     "elapsed": 12,
     "status": "ok",
     "timestamp": 1637069268012,
     "user": {
      "displayName": "Raquel Carmo",
      "photoUrl": "https://lh3.googleusercontent.com/a-/AOh14GgUUTZlzR-089p-AQlc4K-YNrw3DWlq1fWmuzLsdfI=s64",
      "userId": "09214858898201854328"
     },
     "user_tz": -60
    },
    "id": "31YXH62nUkxu",
    "outputId": "1c20d108-21e1-4839-8ca0-973e4e6e8f44"
   },
   "outputs": [],
   "source": [
    "popUrbRur_df[popUrbRur_df.Pop0_19_Rural.isnull()]"
   ]
  },
  {
   "cell_type": "code",
   "execution_count": null,
   "metadata": {
    "colab": {
     "base_uri": "https://localhost:8080/"
    },
    "executionInfo": {
     "elapsed": 1551,
     "status": "ok",
     "timestamp": 1637069269553,
     "user": {
      "displayName": "Raquel Carmo",
      "photoUrl": "https://lh3.googleusercontent.com/a-/AOh14GgUUTZlzR-089p-AQlc4K-YNrw3DWlq1fWmuzLsdfI=s64",
      "userId": "09214858898201854328"
     },
     "user_tz": -60
    },
    "id": "Q2bAEI3vVBGb",
    "outputId": "4713195f-f409-4856-fa20-b69adb2d0950"
   },
   "outputs": [],
   "source": [
    "temp_df = popUrbRur_df[~popUrbRur_df.Pop0_19_Rural.isnull()]\n",
    "assert all(temp_df['Pop0_19'] == temp_df['Pop0_19_Urban']+temp_df['Pop0_19_Rural'])\n",
    "assert all(temp_df['Pop20_99'] == temp_df['Pop20_99_Urban']+temp_df['Pop20_99_Rural'])\n",
    "assert all(temp_df['PopTotal'] == temp_df['PopTotal_Urban']+temp_df['PopTotal_Rural'])\n",
    "\n",
    "def fillNa_pop(row):\n",
    "    if np.isnan(row['Pop0_19_Rural']):\n",
    "        row['Pop0_19_Rural'] = row['Pop0_19']-row['Pop0_19_Urban']\n",
    "        row['Pop20_99_Rural'] = row['Pop20_99']-row['Pop20_99_Urban']\n",
    "        row['PopTotal_Rural'] = row['PopTotal']-row['PopTotal_Urban']\n",
    "    return row.astype(int)\n",
    "\n",
    "population_df = popUrbRur_df.copy()\n",
    "population_df = population_df.apply(fillNa_pop, axis=1).astype({'CD_MUN':str})\n",
    "population_df.info()"
   ]
  },
  {
   "cell_type": "code",
   "execution_count": null,
   "metadata": {
    "colab": {
     "base_uri": "https://localhost:8080/",
     "height": 200
    },
    "executionInfo": {
     "elapsed": 6,
     "status": "ok",
     "timestamp": 1637069269553,
     "user": {
      "displayName": "Raquel Carmo",
      "photoUrl": "https://lh3.googleusercontent.com/a-/AOh14GgUUTZlzR-089p-AQlc4K-YNrw3DWlq1fWmuzLsdfI=s64",
      "userId": "09214858898201854328"
     },
     "user_tz": -60
    },
    "id": "CQGVQJbHRt7U",
    "outputId": "e7384705-856b-4e2d-a77f-125fbebdeecc"
   },
   "outputs": [],
   "source": [
    "population_df = population_df.merge(regions_df[['CD_UF', 'CD_MUN']], on='CD_MUN')\n",
    "population_df = population_df.set_index(['CD_UF']).reset_index()\n",
    "population_df.head()"
   ]
  },
  {
   "cell_type": "code",
   "execution_count": null,
   "metadata": {
    "colab": {
     "base_uri": "https://localhost:8080/",
     "height": 865
    },
    "executionInfo": {
     "elapsed": 6,
     "status": "ok",
     "timestamp": 1637069269554,
     "user": {
      "displayName": "Raquel Carmo",
      "photoUrl": "https://lh3.googleusercontent.com/a-/AOh14GgUUTZlzR-089p-AQlc4K-YNrw3DWlq1fWmuzLsdfI=s64",
      "userId": "09214858898201854328"
     },
     "user_tz": -60
    },
    "id": "BygF3gRWS-uc",
    "outputId": "f28873ba-11af-4af1-8fff-d26617fed108"
   },
   "outputs": [],
   "source": [
    "popByUF_df = population_df.groupby('CD_UF').sum().add_suffix('_UF').reset_index()\n",
    "\n",
    "# assertions\n",
    "assert popByUF_df[popByUF_df['CD_UF']=='11']['PopTotal_UF'].values[0] == population_df[population_df['CD_UF']=='11']['PopTotal'].sum()\n",
    "assert all(popByUF_df['Pop0_19_UF'] == popByUF_df['Pop0_19_Urban_UF']+popByUF_df['Pop0_19_Rural_UF'])\n",
    "assert all(popByUF_df['Pop20_99_UF'] == popByUF_df['Pop20_99_Urban_UF']+popByUF_df['Pop20_99_Rural_UF'])\n",
    "assert all(popByUF_df['PopTotal_UF'] == popByUF_df['PopTotal_Urban_UF']+popByUF_df['PopTotal_Rural_UF'])\n",
    "\n",
    "popByUF_df = popByUF_df.drop(columns=['Pop20_99_Urban_UF', 'Pop20_99_Rural_UF', 'Pop20_99_UF'], axis=1)\n",
    "popByUF_df"
   ]
  },
  {
   "cell_type": "markdown",
   "metadata": {
    "id": "bsdtUGnJgJn7"
   },
   "source": [
    "### 2.2. Dengue data"
   ]
  },
  {
   "cell_type": "code",
   "execution_count": null,
   "metadata": {
    "colab": {
     "base_uri": "https://localhost:8080/",
     "height": 408
    },
    "executionInfo": {
     "elapsed": 368,
     "status": "ok",
     "timestamp": 1637069300657,
     "user": {
      "displayName": "Raquel Carmo",
      "photoUrl": "https://lh3.googleusercontent.com/a-/AOh14GgUUTZlzR-089p-AQlc4K-YNrw3DWlq1fWmuzLsdfI=s64",
      "userId": "09214858898201854328"
     },
     "user_tz": -60
    },
    "id": "aYSl_Ma84Gu8",
    "outputId": "597b82d2-71a5-4e28-9581-f34b482ead65"
   },
   "outputs": [],
   "source": [
    "dengue_df = pd.read_csv(join(config['main_brazil'], \"data_CaseDengue_month_notified_limpo.csv\"), encoding='iso-8859-1', converters={'UF':str})\\\n",
    "                .rename(columns={'UF':'CD_UF', 'totalcase':'cases_total', 'case0to19': 'cases0_19'})\n",
    "\n",
    "dengue_df.drop(columns=['Unnamed: 0', 'Name', 'date', 'time'], axis=1, inplace=True)\n",
    "dengue_df['cases20_99'] = dengue_df['cases_total'] - dengue_df['cases0_19']\n",
    "dengue_df"
   ]
  },
  {
   "cell_type": "code",
   "execution_count": null,
   "metadata": {
    "colab": {
     "base_uri": "https://localhost:8080/"
    },
    "executionInfo": {
     "elapsed": 235,
     "status": "ok",
     "timestamp": 1637069302388,
     "user": {
      "displayName": "Raquel Carmo",
      "photoUrl": "https://lh3.googleusercontent.com/a-/AOh14GgUUTZlzR-089p-AQlc4K-YNrw3DWlq1fWmuzLsdfI=s64",
      "userId": "09214858898201854328"
     },
     "user_tz": -60
    },
    "id": "uE-_L6Pv4QLR",
    "outputId": "4591f51c-8b13-40bf-8226-4f6122eb1837"
   },
   "outputs": [],
   "source": [
    "dengue_df.info()"
   ]
  },
  {
   "cell_type": "markdown",
   "metadata": {
    "id": "ADB3QXBuf_M7"
   },
   "source": [
    "#### 2.2.1. Plots"
   ]
  },
  {
   "cell_type": "code",
   "execution_count": null,
   "metadata": {
    "colab": {
     "base_uri": "https://localhost:8080/",
     "height": 408
    },
    "executionInfo": {
     "elapsed": 4137,
     "status": "ok",
     "timestamp": 1637072069473,
     "user": {
      "displayName": "Raquel Carmo",
      "photoUrl": "https://lh3.googleusercontent.com/a-/AOh14GgUUTZlzR-089p-AQlc4K-YNrw3DWlq1fWmuzLsdfI=s64",
      "userId": "09214858898201854328"
     },
     "user_tz": -60
    },
    "id": "dRSf_QO5YSn1",
    "outputId": "d521c037-e94d-4cc1-80dc-00af40d1adbf"
   },
   "outputs": [],
   "source": [
    "tot_df = dengue_df.merge(UF_df, on='CD_UF', how='left')[['CD_UF','Year','Month','cases_total','NM_UF']]\n",
    "tot_df['year-month'] = pd.to_datetime(tot_df['Year'].astype(str)+'-'+tot_df['Month'].astype(str), format='%Y-%m').dt.strftime('%Y-%m')\n",
    "df = tot_df[['NM_UF', 'cases_total', 'year-month']]\n",
    "\n",
    "# create pivot table\n",
    "result = df.pivot(index='NM_UF', columns='year-month', values='cases_total')\n",
    "\n",
    "fig, ax = plt.subplots(1,1, figsize=(65,9))\n",
    "sns.heatmap(data=result, fmt=\"g\", \n",
    "            robust=True, square=True,\n",
    "            cmap=\"Blues\", linewidth=0.01, \n",
    "            cbar_kws={'label':'Dengue cases',\n",
    "                      'pad': .01, \n",
    "                      'shrink': .85})\n",
    "ax.set(title='Monthly dengue cases for Total Population by State',\n",
    "       ylabel = 'State')\n",
    "plt.show()"
   ]
  },
  {
   "cell_type": "code",
   "execution_count": null,
   "metadata": {
    "colab": {
     "base_uri": "https://localhost:8080/",
     "height": 200
    },
    "executionInfo": {
     "elapsed": 235,
     "status": "ok",
     "timestamp": 1637072093950,
     "user": {
      "displayName": "Raquel Carmo",
      "photoUrl": "https://lh3.googleusercontent.com/a-/AOh14GgUUTZlzR-089p-AQlc4K-YNrw3DWlq1fWmuzLsdfI=s64",
      "userId": "09214858898201854328"
     },
     "user_tz": -60
    },
    "id": "PLLgqznArYF8",
    "outputId": "9f9761f5-31a1-425f-af8f-976b0319a2b6"
   },
   "outputs": [],
   "source": [
    "popByUF_df.head()"
   ]
  },
  {
   "cell_type": "code",
   "execution_count": null,
   "metadata": {
    "colab": {
     "base_uri": "https://localhost:8080/",
     "height": 200
    },
    "executionInfo": {
     "elapsed": 238,
     "status": "ok",
     "timestamp": 1637072101914,
     "user": {
      "displayName": "Raquel Carmo",
      "photoUrl": "https://lh3.googleusercontent.com/a-/AOh14GgUUTZlzR-089p-AQlc4K-YNrw3DWlq1fWmuzLsdfI=s64",
      "userId": "09214858898201854328"
     },
     "user_tz": -60
    },
    "id": "emcAN4TmdiEC",
    "outputId": "e299656a-6eac-418d-86db-941b6e57a988"
   },
   "outputs": [],
   "source": [
    "aux = dengue_df.merge(popByUF_df[['CD_UF', 'PopTotal_UF']], on=['CD_UF'], how='left')[['CD_UF','Year','Month','cases_total','PopTotal_UF']]\n",
    "aux['DIR'] = round(aux['cases_total'].div(aux['PopTotal_UF'], axis=0).multiply(np.power(10,5), axis=0), 2)\n",
    "aux.head()"
   ]
  },
  {
   "cell_type": "code",
   "execution_count": null,
   "metadata": {
    "colab": {
     "base_uri": "https://localhost:8080/",
     "height": 1000
    },
    "executionInfo": {
     "elapsed": 35200,
     "status": "ok",
     "timestamp": 1637073671770,
     "user": {
      "displayName": "Raquel Carmo",
      "photoUrl": "https://lh3.googleusercontent.com/a-/AOh14GgUUTZlzR-089p-AQlc4K-YNrw3DWlq1fWmuzLsdfI=s64",
      "userId": "09214858898201854328"
     },
     "user_tz": -60
    },
    "id": "m7ZGCpYEt-Q4",
    "outputId": "71a88090-6648-45cc-a359-0c05989b1c92"
   },
   "outputs": [],
   "source": [
    "ufs = dengue_df['CD_UF'].unique()\n",
    "\n",
    "dict = {'UF': ['14','16','13','15','21','23','12','11','17','22','25','24','51','52','29','26','27','50','53','31','28','35','33','32','41','42','43'],\n",
    "        'row': [0,0,1,1,1,1,2,2,2,2,2,2,3,3,3,3,3,4,4,4,4,5,5,5,6,6,7],\n",
    "        'col': [1,2,1,2,3,4,0,1,2,3,4,5,1,2,3,4,5,1,2,3,4,2,3,4,2,3,2]}\n",
    "\n",
    "dict2 = {'row': [0,0,0,0,1,1,3,4,4,5,5,5,6,6,6,6,7,7,7,7,7],\n",
    "         'col': [0,3,4,5,0,5,0,0,5,0,1,5,0,1,4,5,0,1,3,4,5]}\n",
    "\n",
    "no_xaxis = {'row': [0,0,1,1,1,1,2,2,2,2,2,3,3,3,3,4,4,4,5,5,6],\n",
    "            'col': [1,2,1,2,3,4,1,2,3,4,5,1,2,3,4,2,3,4,2,3,2]}\n",
    "\n",
    "no_yaxis = {'row': [0,1,1,1,2,2,2,2,2,3,3,3,3,4,4,4,5,5,6],\n",
    "            'col': [2,2,3,4,1,2,3,4,5,2,3,4,5,2,3,4,3,4,3]}\n",
    "\n",
    "months = {0:'Jan', 1:'Feb', 2:'Mar', 3:'Apr', 4:'May', 5:'Jun', \n",
    "          6:'Jul', 7:'Aug', 8:'Sep', 9:'Oct', 10:'Nov', 11:'Dec'}\n",
    "\n",
    "fig, axes = plt.subplots(8, 6, figsize=(19,19))\n",
    "\n",
    "cmap = cm.get_cmap('PuRd')\n",
    "#normalizer = Normalize(0, aux['DIR'].max())\n",
    "#normalizer = colors.LogNorm(vmin=aux['DIR'].min(), vmax=aux['DIR'].max())\n",
    "normalizer = colors.PowerNorm(gamma=0.2, vmin=aux['DIR'].min(), vmax=aux['DIR'].max())\n",
    "im = cm.ScalarMappable(norm=normalizer, cmap=cmap)\n",
    "\n",
    "for i in range(len(ufs)):\n",
    "    name = UF_df[UF_df['CD_UF'] == dict['UF'][i]]['NM_UF'].values[0]\n",
    "    #temp_df = dengue_df[dengue_df['CD_UF'] == dict['UF'][i]][['Year','Month','cases_total']]\n",
    "    temp_df = aux[aux['CD_UF'] == dict['UF'][i]][['Year','Month','DIR']]\n",
    "\n",
    "    result = temp_df.pivot(index='Year', columns='Month', values='DIR')\\\n",
    "                    .reset_index()\\\n",
    "                    .sort_values(by=['Year'], ascending=[False])\\\n",
    "                    .set_index(['Year'])\n",
    "    sns.heatmap(data=result, ax = axes[dict['row'][i], dict['col'][i]], cbar=False, robust=False, cmap=cmap, norm=normalizer, label=name)\n",
    "    axes[dict['row'][i], dict['col'][i]].set_title(name)\n",
    "\n",
    "# set new labels for the Months\n",
    "N = 3  # 1 tick every 3\n",
    "xticks_pos = axes[0,1].get_xticks()\n",
    "xticks_labels = axes[0,1].get_xticklabels()\n",
    "labels = [t.get_text() for t in xticks_labels]\n",
    "xticks_newlabels = [months[i] for i, lbl in enumerate(labels)]\n",
    "myticks = [j for i,j in enumerate(xticks_pos) if not i%N]  # index of selected ticks\n",
    "newlabels = [label for i,label in enumerate(xticks_newlabels) if not i%N]\n",
    "\n",
    "for ax in axes.flat:\n",
    "    ax.set_xticks(myticks)\n",
    "    ax.set_xticklabels(newlabels)\n",
    "    ax.tick_params(axis='both', labelsize=10)\n",
    "    ax.set_xlabel('')\n",
    "    ax.set_ylabel('')\n",
    "    ax.tick_params(axis=\"x\", which=\"both\", rotation=55)\n",
    "axes[2,0].set_ylabel('Year')\n",
    "axes[7,2].set_xlabel('Month')\n",
    "\n",
    "for j in range(len(dict2['row'])):\n",
    "    axes[dict2['row'][j], dict2['col'][j]].set_visible(False)\n",
    "for k in range(len(no_xaxis['row'])):\n",
    "    axes[no_xaxis['row'][k], no_xaxis['col'][k]].xaxis.set_ticklabels([])\n",
    "for w in range(len(no_yaxis['row'])):\n",
    "    axes[no_yaxis['row'][w], no_yaxis['col'][w]].yaxis.set_ticklabels([])\n",
    "\n",
    "cbar = plt.colorbar(im, ax=axes.ravel().tolist(), pad=0.03, shrink=0.5, aspect=50, ticks=[0.01,10,100,300,1000])\n",
    "cbar.set_label(label='Dengue Incidence Rate (per 100 000 people)', size=12, labelpad=8)\n",
    "\n",
    "#plt.tight_layout()\n",
    "plt.show()"
   ]
  },
  {
   "cell_type": "code",
   "execution_count": null,
   "metadata": {
    "colab": {
     "base_uri": "https://localhost:8080/",
     "height": 649
    },
    "executionInfo": {
     "elapsed": 22350,
     "status": "ok",
     "timestamp": 1636018182411,
     "user": {
      "displayName": "Raquel Carmo",
      "photoUrl": "https://lh3.googleusercontent.com/a-/AOh14GgUUTZlzR-089p-AQlc4K-YNrw3DWlq1fWmuzLsdfI=s64",
      "userId": "09214858898201854328"
     },
     "user_tz": -60
    },
    "id": "j7oSqC1OO-Ot",
    "outputId": "2527c6e8-f1bc-4487-f72b-400bf43becdd"
   },
   "outputs": [],
   "source": [
    "years = dengue_df.Year.unique()\n",
    "\n",
    "aux2 = dengue_df[['CD_UF','Year','Month','cases_total']]\\\n",
    "        .groupby(['CD_UF','Year'], as_index=False).sum()[['CD_UF','Year','cases_total']]\\\n",
    "        .merge(popByUF_df[['CD_UF', 'PopTotal_UF']], on=['CD_UF'], how='left')\n",
    "aux2['DIR'] = round(aux2['cases_total'].div(aux2['PopTotal_UF'], axis=0).multiply(np.power(10,5), axis=0), 2)\n",
    "\n",
    "# possible schemes: 'BoxPlot', 'EqualInterval', 'FisherJenks', 'FisherJenksSampled',\n",
    "#                   'HeadTailBreaks', 'JenksCaspall', 'JenksCaspallForced', \n",
    "#                   'JenksCaspallSampled', 'MaxP', 'MaximumBreaks', 'NaturalBreaks', \n",
    "#                   'Quantiles', 'Percentiles', 'StdMean', 'UserDefined', 'Categorical'\n",
    "\n",
    "fig, axes = plt.subplots(2,4, figsize=(24,12))\n",
    "for i, ax in enumerate(axes.flat[:-1]):    \n",
    "\n",
    "    temp_df = aux2[aux2.Year == years[i]][['CD_UF', 'DIR']]\n",
    "    bd = brazil.merge(temp_df, on=['CD_UF'])\n",
    "\n",
    "    bd.plot(column='DIR', edgecolor='black', ax=ax, legend=True,  scheme='quantiles', linewidth=0.5, cmap='YlOrRd')\n",
    "    ax.set_title(f'DIR by State in {years[i]}')\n",
    "\n",
    "for ax in axes.flat:\n",
    "    ax.axis('off')\n",
    "\n",
    "plt.tight_layout()\n",
    "plt.show()"
   ]
  },
  {
   "cell_type": "markdown",
   "metadata": {
    "id": "-mvY7kuLiX4o"
   },
   "source": [
    "### 2.3. Forest/land data"
   ]
  },
  {
   "cell_type": "markdown",
   "metadata": {
    "id": "8P7ABqIqgEmb"
   },
   "source": [
    "#### 2.3.1. Elevation data"
   ]
  },
  {
   "cell_type": "code",
   "execution_count": null,
   "metadata": {
    "colab": {
     "base_uri": "https://localhost:8080/"
    },
    "executionInfo": {
     "elapsed": 1218,
     "status": "ok",
     "timestamp": 1637069333314,
     "user": {
      "displayName": "Raquel Carmo",
      "photoUrl": "https://lh3.googleusercontent.com/a-/AOh14GgUUTZlzR-089p-AQlc4K-YNrw3DWlq1fWmuzLsdfI=s64",
      "userId": "09214858898201854328"
     },
     "user_tz": -60
    },
    "id": "zN-GM_AhiXc-",
    "outputId": "0c7acb37-13da-45e8-8c35-d8affa90b17e"
   },
   "outputs": [],
   "source": [
    "elev_df = pd.read_csv(join(config['main_brazil'], \"Brazil_Elevation_stats_by_municipality.csv\"), converters={'CD_MUN':str}) \\\n",
    "            .drop(['system:index','.geo','Municipality_Area'], axis=1)\n",
    "elev_df[\"CD_MUN\"] = elev_df[\"CD_MUN\"].apply(lambda x: x.replace(x, x[:6]))\n",
    "elev_df"
   ]
  },
  {
   "cell_type": "code",
   "execution_count": null,
   "metadata": {
    "colab": {
     "base_uri": "https://localhost:8080/"
    },
    "executionInfo": {
     "elapsed": 7,
     "status": "ok",
     "timestamp": 1637069333315,
     "user": {
      "displayName": "Raquel Carmo",
      "photoUrl": "https://lh3.googleusercontent.com/a-/AOh14GgUUTZlzR-089p-AQlc4K-YNrw3DWlq1fWmuzLsdfI=s64",
      "userId": "09214858898201854328"
     },
     "user_tz": -60
    },
    "id": "Iw0FgiEeZUMv",
    "outputId": "56941b6b-f612-44f1-b878-6d7ab94a51b8"
   },
   "outputs": [],
   "source": [
    "mun_area_df = pd.read_csv(join(config['main_brazil'], \"Brazil_Elevation_stats_by_municipality.csv\"), converters={'CD_MUN':str})[['CD_MUN', 'Municipality_Area']]\n",
    "mun_area_df[\"CD_MUN\"] = mun_area_df[\"CD_MUN\"].apply(lambda x: x.replace(x, x[:6]))\n",
    "mun_area_df"
   ]
  },
  {
   "cell_type": "code",
   "execution_count": null,
   "metadata": {
    "colab": {
     "base_uri": "https://localhost:8080/"
    },
    "executionInfo": {
     "elapsed": 5,
     "status": "ok",
     "timestamp": 1637069333315,
     "user": {
      "displayName": "Raquel Carmo",
      "photoUrl": "https://lh3.googleusercontent.com/a-/AOh14GgUUTZlzR-089p-AQlc4K-YNrw3DWlq1fWmuzLsdfI=s64",
      "userId": "09214858898201854328"
     },
     "user_tz": -60
    },
    "id": "EC4Dc012_cer",
    "outputId": "21e6d5dc-6af4-4d65-d4f3-0cc9fab12a6d"
   },
   "outputs": [],
   "source": [
    "elev_df.isna().sum()"
   ]
  },
  {
   "cell_type": "markdown",
   "metadata": {
    "id": "jw_LRkCKgH5n"
   },
   "source": [
    "#### 2.3.2. Urbal/Rural data"
   ]
  },
  {
   "cell_type": "code",
   "execution_count": null,
   "metadata": {
    "colab": {
     "base_uri": "https://localhost:8080/"
    },
    "executionInfo": {
     "elapsed": 1983,
     "status": "ok",
     "timestamp": 1637069340924,
     "user": {
      "displayName": "Raquel Carmo",
      "photoUrl": "https://lh3.googleusercontent.com/a-/AOh14GgUUTZlzR-089p-AQlc4K-YNrw3DWlq1fWmuzLsdfI=s64",
      "userId": "09214858898201854328"
     },
     "user_tz": -60
    },
    "id": "KIDhKLEq_i5g",
    "outputId": "2ad2ec7a-474a-49c8-a6df-c41e4c10c2e5"
   },
   "outputs": [],
   "source": [
    "urbRur = pd.read_csv(join(config['main_brazil'], \"Brazil_Urban_Rural_stats_by_municipality.csv\"), converters={'CD_MUN':str})\n",
    "urbRur[\"CD_MUN\"] = urbRur[\"CD_MUN\"].apply(lambda x: x.replace(x, x[:6]))\n",
    "urbRur = urbRur.merge(regions_df[['CD_UF', 'CD_MUN']], on=['CD_MUN'], how='left')\\\n",
    "               .rename(columns={'LC_Type1':'urb_area',\n",
    "                                'Municipality_Area': 'region_area'})\\\n",
    "               .drop(['CD_MUN','system:index','.geo'], axis=1)\n",
    "urbRur.head()"
   ]
  },
  {
   "cell_type": "code",
   "execution_count": null,
   "metadata": {
    "colab": {
     "base_uri": "https://localhost:8080/"
    },
    "executionInfo": {
     "elapsed": 13,
     "status": "ok",
     "timestamp": 1637069340925,
     "user": {
      "displayName": "Raquel Carmo",
      "photoUrl": "https://lh3.googleusercontent.com/a-/AOh14GgUUTZlzR-089p-AQlc4K-YNrw3DWlq1fWmuzLsdfI=s64",
      "userId": "09214858898201854328"
     },
     "user_tz": -60
    },
    "id": "8W809S4ZWoWQ",
    "outputId": "945e886c-37bb-46c3-8f0b-357a7c3f7415"
   },
   "outputs": [],
   "source": [
    "# sum urb_area and region_area by State (UF)\n",
    "urbRur_df = urbRur.groupby('CD_UF', as_index=False).sum()\n",
    "urbRur_df.head()"
   ]
  },
  {
   "cell_type": "code",
   "execution_count": null,
   "metadata": {
    "colab": {
     "base_uri": "https://localhost:8080/"
    },
    "executionInfo": {
     "elapsed": 12,
     "status": "ok",
     "timestamp": 1637069340925,
     "user": {
      "displayName": "Raquel Carmo",
      "photoUrl": "https://lh3.googleusercontent.com/a-/AOh14GgUUTZlzR-089p-AQlc4K-YNrw3DWlq1fWmuzLsdfI=s64",
      "userId": "09214858898201854328"
     },
     "user_tz": -60
    },
    "id": "vU-Y6CPYVwpT",
    "outputId": "34b1b9ce-f913-496a-de8f-34c00091c0b3"
   },
   "outputs": [],
   "source": [
    "urbRur_df['Urban_Cover_Percent'] = (urbRur_df['urb_area'] / urbRur_df['region_area']) * 100\n",
    "urbRur_df = urbRur_df[['CD_UF', 'Urban_Cover_Percent']]\n",
    "urbRur_df"
   ]
  },
  {
   "cell_type": "markdown",
   "metadata": {
    "id": "AhUPX1CJgMND"
   },
   "source": [
    "#### 2.3.3. Forest Cover data"
   ]
  },
  {
   "cell_type": "code",
   "execution_count": null,
   "metadata": {
    "colab": {
     "base_uri": "https://localhost:8080/"
    },
    "executionInfo": {
     "elapsed": 980,
     "status": "ok",
     "timestamp": 1637069355853,
     "user": {
      "displayName": "Raquel Carmo",
      "photoUrl": "https://lh3.googleusercontent.com/a-/AOh14GgUUTZlzR-089p-AQlc4K-YNrw3DWlq1fWmuzLsdfI=s64",
      "userId": "09214858898201854328"
     },
     "user_tz": -60
    },
    "id": "DuIs-H0ZjuwD",
    "outputId": "42a5aad5-18dc-4639-8538-4c4c1a5006ef"
   },
   "outputs": [],
   "source": [
    "fCover_df = pd.read_csv(join(config['main_brazil'], \"Forest_Cover_Percent_Brazil_Municipalities.csv\"), converters={'CD_MUN':str}).drop(['Unnamed: 0'], axis=1)\n",
    "fCover_df[\"CD_MUN\"] = fCover_df[\"CD_MUN\"].apply(lambda x: x.replace(x, x[:6]))\n",
    "fCover_df = fCover_df.merge(regions_df[['CD_UF', 'CD_MUN']], on=['CD_MUN'], how='left')\\\n",
    "                     .merge(mun_area_df, on=['CD_MUN'], how='left')\n",
    "fCover_df"
   ]
  },
  {
   "cell_type": "code",
   "execution_count": null,
   "metadata": {
    "colab": {
     "base_uri": "https://localhost:8080/"
    },
    "executionInfo": {
     "elapsed": 17,
     "status": "ok",
     "timestamp": 1637069355854,
     "user": {
      "displayName": "Raquel Carmo",
      "photoUrl": "https://lh3.googleusercontent.com/a-/AOh14GgUUTZlzR-089p-AQlc4K-YNrw3DWlq1fWmuzLsdfI=s64",
      "userId": "09214858898201854328"
     },
     "user_tz": -60
    },
    "id": "Ezw-GOxWZ2um",
    "outputId": "ac57ffcb-0257-42d1-d0d1-bc8c637bf2d0"
   },
   "outputs": [],
   "source": [
    "perc_cols = fCover_df.columns[1:-2]\n",
    "fCover_df.loc[:, perc_cols] = fCover_df.loc[:, perc_cols].div(100, axis=0).multiply(fCover_df['Municipality_Area'], axis=0)\n",
    "fCover_df = fCover_df.drop('CD_MUN', axis=1)\n",
    "fCover_df"
   ]
  },
  {
   "cell_type": "code",
   "execution_count": null,
   "metadata": {
    "colab": {
     "base_uri": "https://localhost:8080/"
    },
    "executionInfo": {
     "elapsed": 15,
     "status": "ok",
     "timestamp": 1637069355855,
     "user": {
      "displayName": "Raquel Carmo",
      "photoUrl": "https://lh3.googleusercontent.com/a-/AOh14GgUUTZlzR-089p-AQlc4K-YNrw3DWlq1fWmuzLsdfI=s64",
      "userId": "09214858898201854328"
     },
     "user_tz": -60
    },
    "id": "FabcE-GBbpRs",
    "outputId": "4db63ddd-25f4-44f7-ff05-d3f68419f774"
   },
   "outputs": [],
   "source": [
    "fCover_df.isna().sum()"
   ]
  },
  {
   "cell_type": "code",
   "execution_count": null,
   "metadata": {
    "colab": {
     "base_uri": "https://localhost:8080/"
    },
    "executionInfo": {
     "elapsed": 14,
     "status": "ok",
     "timestamp": 1637069355856,
     "user": {
      "displayName": "Raquel Carmo",
      "photoUrl": "https://lh3.googleusercontent.com/a-/AOh14GgUUTZlzR-089p-AQlc4K-YNrw3DWlq1fWmuzLsdfI=s64",
      "userId": "09214858898201854328"
     },
     "user_tz": -60
    },
    "id": "5mIvjGorYQxz",
    "outputId": "b1bfdcda-5f89-4c19-e3c6-ae76c6215c5a"
   },
   "outputs": [],
   "source": [
    "# sum percentages by State (UF)\n",
    "fCover_df1 = fCover_df.groupby('CD_UF', as_index=False).sum()\n",
    "fCover_df1.head()"
   ]
  },
  {
   "cell_type": "code",
   "execution_count": null,
   "metadata": {
    "colab": {
     "base_uri": "https://localhost:8080/"
    },
    "executionInfo": {
     "elapsed": 12,
     "status": "ok",
     "timestamp": 1637069355856,
     "user": {
      "displayName": "Raquel Carmo",
      "photoUrl": "https://lh3.googleusercontent.com/a-/AOh14GgUUTZlzR-089p-AQlc4K-YNrw3DWlq1fWmuzLsdfI=s64",
      "userId": "09214858898201854328"
     },
     "user_tz": -60
    },
    "id": "f38iShqSbset",
    "outputId": "1a89bee5-6400-4454-ea1b-c4f5f3f17f5e"
   },
   "outputs": [],
   "source": [
    "fCover_df1.isna().sum()"
   ]
  },
  {
   "cell_type": "code",
   "execution_count": null,
   "metadata": {
    "colab": {
     "base_uri": "https://localhost:8080/"
    },
    "executionInfo": {
     "elapsed": 490,
     "status": "ok",
     "timestamp": 1637069356335,
     "user": {
      "displayName": "Raquel Carmo",
      "photoUrl": "https://lh3.googleusercontent.com/a-/AOh14GgUUTZlzR-089p-AQlc4K-YNrw3DWlq1fWmuzLsdfI=s64",
      "userId": "09214858898201854328"
     },
     "user_tz": -60
    },
    "id": "fkafGaP7b88w",
    "outputId": "41cf50ba-ca49-47e3-9133-f76ba57e1fc3"
   },
   "outputs": [],
   "source": [
    "perc_cols"
   ]
  },
  {
   "cell_type": "code",
   "execution_count": null,
   "metadata": {
    "colab": {
     "base_uri": "https://localhost:8080/"
    },
    "executionInfo": {
     "elapsed": 24,
     "status": "ok",
     "timestamp": 1637069356336,
     "user": {
      "displayName": "Raquel Carmo",
      "photoUrl": "https://lh3.googleusercontent.com/a-/AOh14GgUUTZlzR-089p-AQlc4K-YNrw3DWlq1fWmuzLsdfI=s64",
      "userId": "09214858898201854328"
     },
     "user_tz": -60
    },
    "id": "7DxKZlWFbMOg",
    "outputId": "fd992de4-d9d0-4bed-b769-34a48c8bab41"
   },
   "outputs": [],
   "source": [
    "fCover_df1.loc[:, perc_cols] = fCover_df1.loc[:, perc_cols].div(fCover_df1['Municipality_Area'], axis=0).multiply(100, axis=0)\n",
    "fCover_df1 = fCover_df1.drop(['Municipality_Area'], axis=1)\n",
    "fCover_df1"
   ]
  },
  {
   "cell_type": "code",
   "execution_count": null,
   "metadata": {
    "colab": {
     "base_uri": "https://localhost:8080/"
    },
    "executionInfo": {
     "elapsed": 21,
     "status": "ok",
     "timestamp": 1637069356337,
     "user": {
      "displayName": "Raquel Carmo",
      "photoUrl": "https://lh3.googleusercontent.com/a-/AOh14GgUUTZlzR-089p-AQlc4K-YNrw3DWlq1fWmuzLsdfI=s64",
      "userId": "09214858898201854328"
     },
     "user_tz": -60
    },
    "id": "Awhzs0gYAM3L",
    "outputId": "d724703e-59ff-4701-9ca4-43c9a4911158"
   },
   "outputs": [],
   "source": [
    "fCover_df1.isna().sum()"
   ]
  },
  {
   "cell_type": "code",
   "execution_count": null,
   "metadata": {
    "colab": {
     "base_uri": "https://localhost:8080/"
    },
    "executionInfo": {
     "elapsed": 18,
     "status": "ok",
     "timestamp": 1637069356338,
     "user": {
      "displayName": "Raquel Carmo",
      "photoUrl": "https://lh3.googleusercontent.com/a-/AOh14GgUUTZlzR-089p-AQlc4K-YNrw3DWlq1fWmuzLsdfI=s64",
      "userId": "09214858898201854328"
     },
     "user_tz": -60
    },
    "id": "XaJx73vajJqj",
    "outputId": "6a9f3d6d-c204-424c-bbe3-27085591606a"
   },
   "outputs": [],
   "source": [
    "years = np.arange(2001, 2021)\n",
    "\n",
    "newDict={'Year':[], 'CD_UF':[], 'Forest_Cover_Percent':[]}\n",
    "\n",
    "for id, row in fCover_df1.iterrows():\n",
    "    for year in years:\n",
    "        newDict['Year'].append(year)\n",
    "        newDict['CD_UF'].append(row.CD_UF)\n",
    "        newDict['Forest_Cover_Percent'].append(row['Forest_Cover_Percent_%i' %year])\n",
    "\n",
    "fCover_df2 = pd.DataFrame(newDict)\n",
    "fCover_df2"
   ]
  },
  {
   "cell_type": "markdown",
   "metadata": {
    "id": "g6QxHkMmNx51"
   },
   "source": [
    "### 2.4. Climate data"
   ]
  },
  {
   "cell_type": "code",
   "execution_count": null,
   "metadata": {
    "colab": {
     "base_uri": "https://localhost:8080/",
     "height": 200
    },
    "executionInfo": {
     "elapsed": 8913,
     "status": "ok",
     "timestamp": 1637069371227,
     "user": {
      "displayName": "Raquel Carmo",
      "photoUrl": "https://lh3.googleusercontent.com/a-/AOh14GgUUTZlzR-089p-AQlc4K-YNrw3DWlq1fWmuzLsdfI=s64",
      "userId": "09214858898201854328"
     },
     "user_tz": -60
    },
    "id": "hytNeRsiNw-x",
    "outputId": "41c16ace-158a-4a65-ab12-8dab8084ac7f"
   },
   "outputs": [],
   "source": [
    "era5land = pd.read_csv(join(config['main_brazil'], 'ERA5land_NDVI_monthly_cities_Brazil.csv'), converters={'CD_UF':str, 'CD_MUN':str})\n",
    "era5land['Date'] = pd.to_datetime(era5land['Date'])\n",
    "era5land[\"CD_MUN\"] = era5land[\"CD_MUN\"].apply(lambda x: x.replace(x, x[:6]))\n",
    "era5land.head()"
   ]
  },
  {
   "cell_type": "code",
   "execution_count": null,
   "metadata": {
    "colab": {
     "base_uri": "https://localhost:8080/"
    },
    "executionInfo": {
     "elapsed": 5,
     "status": "ok",
     "timestamp": 1637069371227,
     "user": {
      "displayName": "Raquel Carmo",
      "photoUrl": "https://lh3.googleusercontent.com/a-/AOh14GgUUTZlzR-089p-AQlc4K-YNrw3DWlq1fWmuzLsdfI=s64",
      "userId": "09214858898201854328"
     },
     "user_tz": -60
    },
    "id": "YpJuxl3rmHQN",
    "outputId": "890988c9-8376-4d1b-d5c6-8de0c68baf0d"
   },
   "outputs": [],
   "source": [
    "era5land.isna().sum()"
   ]
  },
  {
   "cell_type": "code",
   "execution_count": null,
   "metadata": {
    "colab": {
     "base_uri": "https://localhost:8080/",
     "height": 200
    },
    "executionInfo": {
     "elapsed": 384,
     "status": "ok",
     "timestamp": 1637069371607,
     "user": {
      "displayName": "Raquel Carmo",
      "photoUrl": "https://lh3.googleusercontent.com/a-/AOh14GgUUTZlzR-089p-AQlc4K-YNrw3DWlq1fWmuzLsdfI=s64",
      "userId": "09214858898201854328"
     },
     "user_tz": -60
    },
    "id": "iEA7vb64mKpx",
    "outputId": "dea3757a-0cb8-4fbd-918a-824a0be6fa00"
   },
   "outputs": [],
   "source": [
    "# fill NaNs of NDVI from Januray 2000 with the value from February 2000\n",
    "era5land.fillna(method='bfill', inplace=True)\n",
    "era5land.head()"
   ]
  },
  {
   "cell_type": "code",
   "execution_count": null,
   "metadata": {
    "colab": {
     "base_uri": "https://localhost:8080/"
    },
    "executionInfo": {
     "elapsed": 362,
     "status": "ok",
     "timestamp": 1637069371963,
     "user": {
      "displayName": "Raquel Carmo",
      "photoUrl": "https://lh3.googleusercontent.com/a-/AOh14GgUUTZlzR-089p-AQlc4K-YNrw3DWlq1fWmuzLsdfI=s64",
      "userId": "09214858898201854328"
     },
     "user_tz": -60
    },
    "id": "-BP2lcr9nXPB",
    "outputId": "dc181cbe-dc86-4296-e653-f2783b375e9e"
   },
   "outputs": [],
   "source": [
    "era5land.isnull().sum()"
   ]
  },
  {
   "cell_type": "code",
   "execution_count": null,
   "metadata": {
    "colab": {
     "base_uri": "https://localhost:8080/",
     "height": 200
    },
    "executionInfo": {
     "elapsed": 459,
     "status": "ok",
     "timestamp": 1637069372420,
     "user": {
      "displayName": "Raquel Carmo",
      "photoUrl": "https://lh3.googleusercontent.com/a-/AOh14GgUUTZlzR-089p-AQlc4K-YNrw3DWlq1fWmuzLsdfI=s64",
      "userId": "09214858898201854328"
     },
     "user_tz": -60
    },
    "id": "3g90jUjlPz8V",
    "outputId": "7cb397d3-dbf2-4d2a-882e-8fb222593b1e"
   },
   "outputs": [],
   "source": [
    "era5land_df = era5land.merge(elev_df, on=['CD_MUN'], how='left')\n",
    "era5land_df.head()"
   ]
  },
  {
   "cell_type": "code",
   "execution_count": null,
   "metadata": {
    "colab": {
     "base_uri": "https://localhost:8080/"
    },
    "executionInfo": {
     "elapsed": 265,
     "status": "ok",
     "timestamp": 1637069372679,
     "user": {
      "displayName": "Raquel Carmo",
      "photoUrl": "https://lh3.googleusercontent.com/a-/AOh14GgUUTZlzR-089p-AQlc4K-YNrw3DWlq1fWmuzLsdfI=s64",
      "userId": "09214858898201854328"
     },
     "user_tz": -60
    },
    "id": "2-6ex7Z6QEra",
    "outputId": "181ed2e9-be12-4ce5-d7f1-cc2382f87387"
   },
   "outputs": [],
   "source": [
    "era5land_df.isna().sum()"
   ]
  },
  {
   "cell_type": "markdown",
   "metadata": {
    "id": "R7u92klFDRpg"
   },
   "source": [
    "### 2.5. Social data"
   ]
  },
  {
   "cell_type": "code",
   "execution_count": null,
   "metadata": {
    "colab": {
     "base_uri": "https://localhost:8080/",
     "height": 220
    },
    "executionInfo": {
     "elapsed": 617,
     "status": "ok",
     "timestamp": 1637069373294,
     "user": {
      "displayName": "Raquel Carmo",
      "photoUrl": "https://lh3.googleusercontent.com/a-/AOh14GgUUTZlzR-089p-AQlc4K-YNrw3DWlq1fWmuzLsdfI=s64",
      "userId": "09214858898201854328"
     },
     "user_tz": -60
    },
    "id": "W3Czrv5pDQrG",
    "outputId": "45e3ba34-8b04-4477-c5c7-e6f13da79ecb"
   },
   "outputs": [],
   "source": [
    "social_df = pd.read_excel(join(config['main_brazil'], \"dadosUF.xlsx\"), converters={'UF':str})\\\n",
    "    [['UF', 'IVS', 'IVS Infraestrutura Urbana', 'IVS Capital Humano', 'IVS Renda e Trabalho', '% de pessoas em domicílios com abastecimento de água e esgotamento sanitário inadequados',\n",
    "      '% da população que vive em domicílios urbanos sem o serviço de coleta de lixo', '% de pessoas que vivem em domicílios com renda per capita inferior a meio salário mínimo (de 2010) e que gastam mais de uma hora até o trabalho',\n",
    "      'Taxa de analfabetismo da população de 15 anos ou mais de idade', '% de crianças que vivem em domicílios em que nenhum dos moradores tem o ensino fundamental completo',\n",
    "      '% de pessoas de 15 a 24 anos que não estudam, não trabalham e possuem renda domiciliar per capita igual ou inferior a meio salário mínimo (de 2010)',\n",
    "      'Porcentagem de pessoas com renda domiciliar per capita igual ou inferior a meio salário mínimo (de 2010)',\n",
    "      'Taxa de desocupação da população de 18 anos ou mais de idade', '% de pessoas de 18 anos ou mais sem fundamental completo e em ocupação informal',\n",
    "      'IDHM', 'IDHM Longevidade', 'IDHM Educação', 'IDHM Renda',\n",
    "      'Subíndice de escolaridade - IDHM Educação', '% de 18 anos ou mais com fundamental completo', 'Subíndice de frequência escolar - IDHM Educação', 'Renda per capita',\n",
    "      'PEA - 10 a 14 anos', 'PEA - 15 a 17 anos', 'PEA - 18 anos ou mais', '% da população em domicílios com energia elétrica', '% da população em domicílios com densidade > 2',\n",
    "      'Renda per capita dos vulneráveis à pobreza', 'Taxa de analfabetismo - 18 anos ou mais',\n",
    "      'Grau de formalização dos ocupados - 18 anos ou mais', '% dos ocupados com fundamental completo - 18 anos ou mais', '% dos ocupados com médio completo - 18 anos ou mais']]\n",
    "\n",
    "social_df = social_df.rename(columns={'UF': 'CD_UF',\n",
    "                                      'IVS':'ivs',\n",
    "                                      'IVS Infraestrutura Urbana': 'ivs_infraestrutura_urbana',\n",
    "                                      'IVS Capital Humano': 'ivs_capital_humano',\n",
    "                                      'IVS Renda e Trabalho': 'ivs_renda_e_trabalho',\n",
    "                                      '% de pessoas em domicílios com abastecimento de água e esgotamento sanitário inadequados':'t_sem_agua_esgoto',\n",
    "                                      '% da população que vive em domicílios urbanos sem o serviço de coleta de lixo':'t_sem_lixo',\n",
    "                                      '% de pessoas que vivem em domicílios com renda per capita inferior a meio salário mínimo (de 2010) e que gastam mais de uma hora até o trabalho':'t_vulner_mais1h',\n",
    "                                      'Taxa de analfabetismo da população de 15 anos ou mais de idade':'t_analf_15m',\n",
    "                                      '% de crianças que vivem em domicílios em que nenhum dos moradores tem o ensino fundamental completo':'t_cdom_fundin',\n",
    "                                      '% de pessoas de 15 a 24 anos que não estudam, não trabalham e possuem renda domiciliar per capita igual ou inferior a meio salário mínimo (de 2010)':'t_p15a24_nada',\n",
    "                                      'Porcentagem de pessoas com renda domiciliar per capita igual ou inferior a meio salário mínimo (de 2010)':'t_vulner',\n",
    "                                      'Taxa de desocupação da população de 18 anos ou mais de idade':'t_desocup18m',\n",
    "                                      '% de pessoas de 18 anos ou mais sem fundamental completo e em ocupação informal':'t_p18m_fundin_informal',\n",
    "                                      'IDHM':'idhm',\n",
    "                                      'IDHM Longevidade':'idhm_long',\n",
    "                                      'IDHM Educação':'idhm_educ',\n",
    "                                      'IDHM Renda':'idhm_renda',\n",
    "                                      'Subíndice de escolaridade - IDHM Educação':'idhm_educ_sub_esc',\n",
    "                                      '% de 18 anos ou mais com fundamental completo':'t_pop18m_fundc',\n",
    "                                      'Subíndice de frequência escolar - IDHM Educação':'idhm_educ_sub_freq',\n",
    "                                      'Renda per capita':'renda_per_capita',\n",
    "                                      'PEA - 10 a 14 anos':'pea10a14',\n",
    "                                      'PEA - 15 a 17 anos':'pea15a17',\n",
    "                                      'PEA - 18 anos ou mais':'pea18m',\n",
    "                                      '% da população em domicílios com energia elétrica':'t_eletrica',\n",
    "                                      '% da população em domicílios com densidade > 2':'t_densidadem2',\n",
    "                                      'Renda per capita dos vulneráveis à pobreza':'rdpc_def_vulner',\n",
    "                                      'Taxa de analfabetismo - 18 anos ou mais':'t_analf_18m',\n",
    "                                      'Grau de formalização dos ocupados - 18 anos ou mais':'t_formal_18m',\n",
    "                                      '% dos ocupados com fundamental completo - 18 anos ou mais':'t_fundc_ocup18m',\n",
    "                                      '% dos ocupados com médio completo - 18 anos ou mais':'t_medioc_ocup18m'})\n",
    "social_df.head()"
   ]
  },
  {
   "cell_type": "markdown",
   "metadata": {
    "id": "DFDfDMXGuIjn"
   },
   "source": [
    "## **3.** Create final dataframe"
   ]
  },
  {
   "cell_type": "markdown",
   "metadata": {
    "id": "JtkDcG_JBOLt"
   },
   "source": [
    "### 3.1. Merge all data"
   ]
  },
  {
   "cell_type": "code",
   "execution_count": null,
   "metadata": {
    "colab": {
     "base_uri": "https://localhost:8080/",
     "height": 95
    },
    "executionInfo": {
     "elapsed": 232,
     "status": "ok",
     "timestamp": 1637069378874,
     "user": {
      "displayName": "Raquel Carmo",
      "photoUrl": "https://lh3.googleusercontent.com/a-/AOh14GgUUTZlzR-089p-AQlc4K-YNrw3DWlq1fWmuzLsdfI=s64",
      "userId": "09214858898201854328"
     },
     "user_tz": -60
    },
    "id": "JsC-EaDHpmfi",
    "outputId": "c31273fd-6c24-4098-95f6-b7e3a73dd01f"
   },
   "outputs": [],
   "source": [
    "print('Município not in ERA5-land:', MUN_df[MUN_df['CD_MUN'] == '260545']['NM_MUN'].values[0])\n",
    "MUN_df[MUN_df['CD_MUN'] == '260545']"
   ]
  },
  {
   "cell_type": "code",
   "execution_count": null,
   "metadata": {
    "colab": {
     "base_uri": "https://localhost:8080/"
    },
    "executionInfo": {
     "elapsed": 1324,
     "status": "ok",
     "timestamp": 1637069382211,
     "user": {
      "displayName": "Raquel Carmo",
      "photoUrl": "https://lh3.googleusercontent.com/a-/AOh14GgUUTZlzR-089p-AQlc4K-YNrw3DWlq1fWmuzLsdfI=s64",
      "userId": "09214858898201854328"
     },
     "user_tz": -60
    },
    "id": "CqY-zCauN5_K",
    "outputId": "7aa972b5-ae63-43b7-ead5-16fc38a9edca"
   },
   "outputs": [],
   "source": [
    "list1=population_df.CD_MUN.unique()\n",
    "print(len(list1))\n",
    "list2=era5land.CD_MUN.unique()\n",
    "print(len(list2))\n",
    "\n",
    "mun_notin_population_df = [i for i in list2 if i not in list1]\n",
    "#print(mun_notin_population_df)\n",
    "print('Municipios without population data:', [MUN_df[MUN_df['CD_MUN'] == m]['NM_MUN'].values[0] for m in mun_notin_population_df])"
   ]
  },
  {
   "cell_type": "code",
   "execution_count": null,
   "metadata": {
    "colab": {
     "base_uri": "https://localhost:8080/",
     "height": 200
    },
    "executionInfo": {
     "elapsed": 611,
     "status": "ok",
     "timestamp": 1637069398996,
     "user": {
      "displayName": "Raquel Carmo",
      "photoUrl": "https://lh3.googleusercontent.com/a-/AOh14GgUUTZlzR-089p-AQlc4K-YNrw3DWlq1fWmuzLsdfI=s64",
      "userId": "09214858898201854328"
     },
     "user_tz": -60
    },
    "id": "TVc-9Wf0lT0u",
    "outputId": "e666956e-4871-4220-deb9-74c84a5b3aa3"
   },
   "outputs": [],
   "source": [
    "df = pd.merge(era5land_df, population_df[['CD_MUN', 'PopTotal']], on='CD_MUN', how='inner')\n",
    "df.head()"
   ]
  },
  {
   "cell_type": "code",
   "execution_count": null,
   "metadata": {
    "colab": {
     "base_uri": "https://localhost:8080/"
    },
    "executionInfo": {
     "elapsed": 246,
     "status": "ok",
     "timestamp": 1637069402773,
     "user": {
      "displayName": "Raquel Carmo",
      "photoUrl": "https://lh3.googleusercontent.com/a-/AOh14GgUUTZlzR-089p-AQlc4K-YNrw3DWlq1fWmuzLsdfI=s64",
      "userId": "09214858898201854328"
     },
     "user_tz": -60
    },
    "id": "6o-BIvvNs5Yi",
    "outputId": "86ac6383-80ca-41ff-e8da-a04a362e40ab"
   },
   "outputs": [],
   "source": [
    "df.isnull().sum()"
   ]
  },
  {
   "cell_type": "markdown",
   "metadata": {},
   "source": [
    "Create population-weighted monthly averages of climatic variables."
   ]
  },
  {
   "cell_type": "code",
   "execution_count": null,
   "metadata": {
    "colab": {
     "base_uri": "https://localhost:8080/",
     "height": 200
    },
    "executionInfo": {
     "elapsed": 1117,
     "status": "ok",
     "timestamp": 1637069408282,
     "user": {
      "displayName": "Raquel Carmo",
      "photoUrl": "https://lh3.googleusercontent.com/a-/AOh14GgUUTZlzR-089p-AQlc4K-YNrw3DWlq1fWmuzLsdfI=s64",
      "userId": "09214858898201854328"
     },
     "user_tz": -60
    },
    "id": "vaVEO1rNTxSy",
    "outputId": "3c4c4f67-b3d4-48cc-db13-6167bc02fffd"
   },
   "outputs": [],
   "source": [
    "vars = ['NDVI', 'dewpoint_temperature_2m', 'humidity',\n",
    "        'max_temperature_2m', 'min_temperature_2m', 'surface_pressure',\n",
    "        'temperature_2m', 'total_precipitation', \n",
    "        'u_component_of_wind_10m', 'v_component_of_wind_10m',\n",
    "        'max_elevation', 'mean_elevation', 'min_elevation',\n",
    "        'stdDev_elevation', 'variance_elevation']\n",
    "\n",
    "df.loc[:, vars] = df.loc[:, vars].multiply(df['PopTotal'], axis=0)\n",
    "df = df.rename(columns={col: col+'_d' for col in df.columns if col in vars})\n",
    "df.head()"
   ]
  },
  {
   "cell_type": "code",
   "execution_count": null,
   "metadata": {
    "colab": {
     "base_uri": "https://localhost:8080/",
     "height": 200
    },
    "executionInfo": {
     "elapsed": 555,
     "status": "ok",
     "timestamp": 1637069413591,
     "user": {
      "displayName": "Raquel Carmo",
      "photoUrl": "https://lh3.googleusercontent.com/a-/AOh14GgUUTZlzR-089p-AQlc4K-YNrw3DWlq1fWmuzLsdfI=s64",
      "userId": "09214858898201854328"
     },
     "user_tz": -60
    },
    "id": "iqcrGBGWXhok",
    "outputId": "7ac11cd6-33db-43c2-8792-2ffd152bb8c1"
   },
   "outputs": [],
   "source": [
    "df1 = df.groupby(['Date','CD_UF'], as_index=False).sum()\n",
    "df1.head()"
   ]
  },
  {
   "cell_type": "code",
   "execution_count": null,
   "metadata": {
    "colab": {
     "base_uri": "https://localhost:8080/",
     "height": 200
    },
    "executionInfo": {
     "elapsed": 221,
     "status": "ok",
     "timestamp": 1637069422169,
     "user": {
      "displayName": "Raquel Carmo",
      "photoUrl": "https://lh3.googleusercontent.com/a-/AOh14GgUUTZlzR-089p-AQlc4K-YNrw3DWlq1fWmuzLsdfI=s64",
      "userId": "09214858898201854328"
     },
     "user_tz": -60
    },
    "id": "vmuUExCIchnw",
    "outputId": "fe5ffeb5-4fb7-4a52-b44b-8f187b5bc62b"
   },
   "outputs": [],
   "source": [
    "cols = ['NDVI_d', 'dewpoint_temperature_2m_d', 'humidity_d',\n",
    "        'max_temperature_2m_d', 'min_temperature_2m_d', 'surface_pressure_d',\n",
    "        'temperature_2m_d', 'total_precipitation_d',\n",
    "        'u_component_of_wind_10m_d', 'v_component_of_wind_10m_d',\n",
    "        'max_elevation_d', 'mean_elevation_d', 'min_elevation_d',\n",
    "        'stdDev_elevation_d', 'variance_elevation_d']\n",
    "\n",
    "df1.loc[:, cols] = df1.loc[:, cols].div(df1['PopTotal'], axis=0)\n",
    "df1.head()"
   ]
  },
  {
   "cell_type": "code",
   "execution_count": null,
   "metadata": {
    "colab": {
     "base_uri": "https://localhost:8080/",
     "height": 200
    },
    "executionInfo": {
     "elapsed": 221,
     "status": "ok",
     "timestamp": 1637069429185,
     "user": {
      "displayName": "Raquel Carmo",
      "photoUrl": "https://lh3.googleusercontent.com/a-/AOh14GgUUTZlzR-089p-AQlc4K-YNrw3DWlq1fWmuzLsdfI=s64",
      "userId": "09214858898201854328"
     },
     "user_tz": -60
    },
    "id": "OJZ3_FuvCeBt",
    "outputId": "e47f6f70-7e99-4367-b0a4-4c209ff94d6c"
   },
   "outputs": [],
   "source": [
    "df1 = df1.drop(columns=['PopTotal'], axis=1)\n",
    "df1.insert(loc=1, column='Year', value=df1['Date'].dt.year)\n",
    "df1.insert(loc=2, column='Month', value=df1['Date'].dt.month)\n",
    "df1.head()"
   ]
  },
  {
   "cell_type": "code",
   "execution_count": null,
   "metadata": {
    "colab": {
     "base_uri": "https://localhost:8080/",
     "height": 591
    },
    "executionInfo": {
     "elapsed": 364,
     "status": "ok",
     "timestamp": 1637069486137,
     "user": {
      "displayName": "Raquel Carmo",
      "photoUrl": "https://lh3.googleusercontent.com/a-/AOh14GgUUTZlzR-089p-AQlc4K-YNrw3DWlq1fWmuzLsdfI=s64",
      "userId": "09214858898201854328"
     },
     "user_tz": -60
    },
    "id": "kDLqxcNIBaB5",
    "outputId": "771b38ce-8c83-4585-adf2-a44a7cb6912c"
   },
   "outputs": [],
   "source": [
    "df2 = pd.merge(df1, popByUF_df, on=['CD_UF'], how='left')\\\n",
    "        .merge(dengue_df, on=['CD_UF', 'Year', 'Month'], how='right')\\\n",
    "        .merge(fCover_df2, on=['CD_UF', 'Year'], how='left')\\\n",
    "        .merge(urbRur_df, on=['CD_UF'], how='left')\\\n",
    "        .merge(social_df, on=['CD_UF'], how='left')\n",
    "df2"
   ]
  },
  {
   "cell_type": "code",
   "execution_count": null,
   "metadata": {
    "colab": {
     "base_uri": "https://localhost:8080/"
    },
    "executionInfo": {
     "elapsed": 246,
     "status": "ok",
     "timestamp": 1637069560352,
     "user": {
      "displayName": "Raquel Carmo",
      "photoUrl": "https://lh3.googleusercontent.com/a-/AOh14GgUUTZlzR-089p-AQlc4K-YNrw3DWlq1fWmuzLsdfI=s64",
      "userId": "09214858898201854328"
     },
     "user_tz": -60
    },
    "id": "z-gTJED7IjzD",
    "outputId": "10804895-ecc2-4dec-b839-c92cddf38311"
   },
   "outputs": [],
   "source": [
    "df2.isna().sum()"
   ]
  },
  {
   "cell_type": "code",
   "execution_count": null,
   "metadata": {
    "id": "lXfWIN79IxGA"
   },
   "outputs": [],
   "source": [
    "# save final dataframe to csv\n",
    "df2.to_csv(join(config['main_brazil'], 'Brazil_UF_dengue_monthly.csv'), index=False)"
   ]
  },
  {
   "cell_type": "markdown",
   "metadata": {
    "id": "-dofpagjm3ju"
   },
   "source": [
    "### 3.2. Plots"
   ]
  },
  {
   "cell_type": "code",
   "execution_count": null,
   "metadata": {
    "colab": {
     "base_uri": "https://localhost:8080/",
     "height": 1000
    },
    "executionInfo": {
     "elapsed": 173510,
     "status": "ok",
     "timestamp": 1637073623282,
     "user": {
      "displayName": "Raquel Carmo",
      "photoUrl": "https://lh3.googleusercontent.com/a-/AOh14GgUUTZlzR-089p-AQlc4K-YNrw3DWlq1fWmuzLsdfI=s64",
      "userId": "09214858898201854328"
     },
     "user_tz": -60
    },
    "id": "x4QNK9JMm0en",
    "outputId": "24ee84ae-fecc-4143-bce5-a73e9bc4d4bf"
   },
   "outputs": [],
   "source": [
    "ufs = dengue_df['CD_UF'].unique()\n",
    "\n",
    "dict = {'UF': ['14','16','13','15','21','23','12','11','17','22','25','24','51','52','29','26','27','50','53','31','28','35','33','32','41','42','43'],\n",
    "        'row': [0,0,1,1,1,1,2,2,2,2,2,2,3,3,3,3,3,4,4,4,4,5,5,5,6,6,7],\n",
    "        'col': [1,2,1,2,3,4,0,1,2,3,4,5,1,2,3,4,5,1,2,3,4,2,3,4,2,3,2]}\n",
    "\n",
    "dict2 = {'row': [0,0,0,0,1,1,3,4,4,5,5,5,6,6,6,6,7,7,7,7,7],\n",
    "         'col': [0,3,4,5,0,5,0,0,5,0,1,5,0,1,4,5,0,1,3,4,5]}\n",
    "\n",
    "no_xaxis = {'row': [0,0,1,1,1,1,2,2,2,2,2,3,3,3,3,4,4,4,5,5,6],\n",
    "            'col': [1,2,1,2,3,4,1,2,3,4,5,1,2,3,4,2,3,4,2,3,2]}\n",
    "\n",
    "no_yaxis = {'row': [0,1,1,1,2,2,2,2,2,3,3,3,3,4,4,4,5,5,6],\n",
    "            'col': [2,2,3,4,1,2,3,4,5,2,3,4,5,2,3,4,3,4,3]}\n",
    "\n",
    "months = {0:'Jan', 1:'Feb', 2:'Mar', 3:'Apr', 4:'May', 5:'Jun', \n",
    "          6:'Jul', 7:'Aug', 8:'Sep', 9:'Oct', 10:'Nov', 11:'Dec'}\n",
    "\n",
    "from matplotlib.colors import ListedColormap\n",
    "\n",
    "vars=['NDVI_d', 'humidity_d', 'max_temperature_2m_d', 'total_precipitation_d', 'mean_elevation_d']\n",
    "lbls=['Normalized Difference Vegetation Index (NDVI)', 'Relative humidity', 'Maximum air temperature at 2m above the surface (°C)', 'Total precipitation (m)', 'Mean elevation (m)']\n",
    "viridisBig = cm.get_cmap('viridis', 512)\n",
    "newcmp = ListedColormap(viridisBig(np.linspace(0.15, 0.80, 256))) # blue to green colormap\n",
    "colormaps = [cm.get_cmap('Greens'), cm.get_cmap('Blues'), cm.get_cmap('coolwarm'), cm.get_cmap('Blues'), cm.get_cmap('Oranges')]\n",
    "gammas = [0.3, 0.6, 1, 0.5, 0.5]\n",
    "\n",
    "for v in range(len(vars)):\n",
    "\n",
    "    if vars[v]=='max_temperature_2m_d':\n",
    "        df3 = df2.copy()\n",
    "        df3[vars[v]] -= 273.15\n",
    "        #normalizer = Normalize(vmin=df3[vars[v]].min(), vmax=df3[vars[v]].max())\n",
    "        normalizer = colors.PowerNorm(gamma=gammas[v], vmin=df3[vars[v]].min(), vmax=df3[vars[v]].max())\n",
    "    else:\n",
    "        normalizer = colors.PowerNorm(gamma=gammas[v], vmin=df2[vars[v]].min(), vmax=df2[vars[v]].max())\n",
    "\n",
    "    fig, axes = plt.subplots(8, 6, figsize=(19,19))\n",
    "    cmap = colormaps[v]\n",
    "    im = cm.ScalarMappable(norm=normalizer, cmap=cmap)\n",
    "\n",
    "    for i in range(len(ufs)):\n",
    "        name = UF_df[UF_df['CD_UF'] == dict['UF'][i]]['NM_UF'].values[0]\n",
    "        if vars[v]=='max_temperature_2m_d':\n",
    "            temp_df = df3[df3['CD_UF'] == dict['UF'][i]][['Year','Month', vars[v]]]\n",
    "        else:\n",
    "            temp_df = df2[df2['CD_UF'] == dict['UF'][i]][['Year','Month', vars[v]]]\n",
    "\n",
    "        result = temp_df.pivot(index='Year', columns='Month', values=vars[v])\\\n",
    "                        .reset_index()\\\n",
    "                        .sort_values(by=['Year'], ascending=[False])\\\n",
    "                        .set_index(['Year'])\n",
    "        sns.heatmap(data=result, ax = axes[dict['row'][i], dict['col'][i]], cbar=False, robust=False, cmap=cmap, norm=normalizer, label=name)\n",
    "        axes[dict['row'][i], dict['col'][i]].set_title(name)\n",
    "\n",
    "    # set new labels for the Months\n",
    "    N = 3  # 1 tick every 3\n",
    "    xticks_pos = axes[0,1].get_xticks()\n",
    "    xticks_labels = axes[0,1].get_xticklabels()\n",
    "    labels = [t.get_text() for t in xticks_labels]\n",
    "    xticks_newlabels = [months[i] for i, lbl in enumerate(labels)]\n",
    "    myticks = [j for i,j in enumerate(xticks_pos) if not i%N]  # index of selected ticks\n",
    "    newlabels = [label for i,label in enumerate(xticks_newlabels) if not i%N]\n",
    "\n",
    "    for ax in axes.flat:\n",
    "        ax.set_xticks(myticks)\n",
    "        ax.set_xticklabels(newlabels)\n",
    "        ax.tick_params(axis='both', labelsize=10)\n",
    "        ax.set_xlabel('')\n",
    "        ax.set_ylabel('')\n",
    "        ax.tick_params(axis=\"x\", which=\"both\", rotation=55)\n",
    "    axes[2,0].set_ylabel('Year')\n",
    "    axes[7,2].set_xlabel('Month')\n",
    "\n",
    "    for j in range(len(dict2['row'])):\n",
    "        axes[dict2['row'][j], dict2['col'][j]].set_visible(False)\n",
    "    for k in range(len(no_xaxis['row'])):\n",
    "        axes[no_xaxis['row'][k], no_xaxis['col'][k]].xaxis.set_ticklabels([])\n",
    "    for w in range(len(no_yaxis['row'])):\n",
    "        axes[no_yaxis['row'][w], no_yaxis['col'][w]].yaxis.set_ticklabels([])\n",
    "\n",
    "    cbar = plt.colorbar(im, ax=axes.ravel().tolist(), pad=0.03, shrink=0.5, aspect=50)\n",
    "    cbar.set_label(label=lbls[v], size=12, labelpad=8)\n",
    "\n",
    "    #plt.tight_layout()\n",
    "    plt.show()\n",
    "    #fig.savefig(join(config['main_brazil'], \"plots\", 'Brazil_UF_{vars[v][:-2]}.png'), bbox_inches='tight')"
   ]
  }
 ],
 "metadata": {
  "colab": {
   "authorship_tag": "ABX9TyOHYvYZQvkl8Fz5Z2whhTK8",
   "collapsed_sections": [
    "rOp3z1XwgNzl",
    "bsdtUGnJgJn7"
   ],
   "name": "dataFusion_Brazil.ipynb",
   "provenance": [],
   "toc_visible": true
  },
  "kernelspec": {
   "display_name": "Python 3",
   "language": "python",
   "name": "python3"
  },
  "language_info": {
   "codemirror_mode": {
    "name": "ipython",
    "version": 3
   },
   "file_extension": ".py",
   "mimetype": "text/x-python",
   "name": "python",
   "nbconvert_exporter": "python",
   "pygments_lexer": "ipython3",
   "version": "3.8.6"
  }
 },
 "nbformat": 4,
 "nbformat_minor": 4
}
