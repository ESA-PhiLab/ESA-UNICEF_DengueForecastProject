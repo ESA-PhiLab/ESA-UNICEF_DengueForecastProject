{
 "cells": [
  {
   "cell_type": "markdown",
   "metadata": {
    "id": "D4P67Kx6CQse"
   },
   "source": [
    "# Data fusion for Peru"
   ]
  },
  {
   "cell_type": "markdown",
   "metadata": {
    "id": "rOp3z1XwgNzl"
   },
   "source": [
    "## **1.** Authentications and imports"
   ]
  },
  {
   "cell_type": "code",
   "execution_count": null,
   "metadata": {},
   "outputs": [],
   "source": [
    "# insert your desired path to work on\n",
    "import os\n",
    "from os.path import join\n",
    "project_path = os.path.dirname(os.getcwd())\n",
    "os.chdir(join('..','..','data'))\n",
    "os.getcwd()"
   ]
  },
  {
   "cell_type": "markdown",
   "metadata": {},
   "source": [
    "Import necessary libraries."
   ]
  },
  {
   "cell_type": "code",
   "execution_count": null,
   "metadata": {},
   "outputs": [],
   "source": [
    "!pip install unidecode --quiet\n",
    "from unidecode import unidecode\n",
    "from functools import reduce\n",
    "import numpy as np\n",
    "import glob\n",
    "import pandas as pd\n",
    "import pprint\n",
    "import seaborn as sns\n",
    "import matplotlib\n",
    "import matplotlib.cm as cm\n",
    "import matplotlib.pyplot as plt\n",
    "pp = pprint.PrettyPrinter(indent=4)\n",
    "%matplotlib inline"
   ]
  },
  {
   "cell_type": "markdown",
   "metadata": {},
   "source": [
    "Set folder structure."
   ]
  },
  {
   "cell_type": "code",
   "execution_count": null,
   "metadata": {},
   "outputs": [],
   "source": [
    "config = {\n",
    "    'main_brazil': 'Brazil',\n",
    "    'main_peru': 'Peru'\n",
    "}\n",
    "\n",
    "# List comprehension for the folder structure code\n",
    "[os.makedirs(val, exist_ok=True) for key, val in config.items()]"
   ]
  },
  {
   "cell_type": "markdown",
   "metadata": {
    "id": "A7WwxfbyCWj9"
   },
   "source": [
    "## **2.** Load and clean data"
   ]
  },
  {
   "cell_type": "markdown",
   "metadata": {
    "id": "n2ONpkHBA2E8"
   },
   "source": [
    "### 2.0. Regions data\n",
    "We're only interested in the following departments: Loreto, Madre de Dios, Piura, San Martin, Tumbes and Ucayali"
   ]
  },
  {
   "cell_type": "code",
   "execution_count": null,
   "metadata": {
    "colab": {
     "base_uri": "https://localhost:8080/",
     "height": 1000
    },
    "executionInfo": {
     "elapsed": 260,
     "status": "ok",
     "timestamp": 1643407332211,
     "user": {
      "displayName": "Raquel Carmo",
      "photoUrl": "https://lh3.googleusercontent.com/a-/AOh14GgUUTZlzR-089p-AQlc4K-YNrw3DWlq1fWmuzLsdfI=s64",
      "userId": "09214858898201854328"
     },
     "user_tz": -60
    },
    "id": "Z31XE2z0_-Hf",
    "outputId": "cae69d5d-88bd-4f1d-cbb0-5c21c51a7747"
   },
   "outputs": [],
   "source": [
    "df_regions = pd.read_csv(join(config['main_peru'], \"Peru_DepID_ProvID.csv\"))\\\n",
    "                .drop(columns=['ADM0_EN', 'ADM0_PCODE', 'Shape_Area'], axis=1)\n",
    "\n",
    "df_regions['ADM2_ES'] = df_regions['ADM2_ES'].apply(lambda x: unidecode(x.strip()))\n",
    "\n",
    "# Filter to Loreto, Madre de Dios, Piura, San Martin, Tumbes and Ucayali\n",
    "DOI = ['PE16', 'PE17', 'PE20', 'PE22', 'PE24', 'PE25']\n",
    "df_regions = df_regions[df_regions[\"ADM1_PCODE\"].isin(DOI)].reset_index(drop=True)\n",
    "df_regions"
   ]
  },
  {
   "cell_type": "markdown",
   "metadata": {
    "id": "CWQZnk04QkCy"
   },
   "source": [
    "### 2.1. Population data from Census2017"
   ]
  },
  {
   "cell_type": "code",
   "execution_count": null,
   "metadata": {
    "colab": {
     "base_uri": "https://localhost:8080/",
     "height": 1000
    },
    "executionInfo": {
     "elapsed": 1262,
     "status": "ok",
     "timestamp": 1643407336564,
     "user": {
      "displayName": "Raquel Carmo",
      "photoUrl": "https://lh3.googleusercontent.com/a-/AOh14GgUUTZlzR-089p-AQlc4K-YNrw3DWlq1fWmuzLsdfI=s64",
      "userId": "09214858898201854328"
     },
     "user_tz": -60
    },
    "id": "dKIxXQiMGZLq",
    "outputId": "ba92faf5-a397-40e2-fe0e-fc7cff6e4afd"
   },
   "outputs": [],
   "source": [
    "census2017_data = join(config['main_peru'], \"Population_yearly_Province_Age_Census2017.xlsx\")\n",
    "census_df = pd.read_excel(census2017_data, engine='openpyxl', skiprows = 5, skipfooter = 5, usecols = \"B:W\", converters={'Código': str})\\\n",
    "                .dropna()\\\n",
    "                .drop(columns=['Provincia'])\\\n",
    "                .rename(columns={'Código':'ADM2_PCODE'})\n",
    "census_df['ADM2_PCODE'] = 'PE'+census_df['ADM2_PCODE'].str.zfill(4)\n",
    "\n",
    "census_df['PopTotal'] = census_df.iloc[:, 1:].sum(axis=1).astype(int)\n",
    "census_df['Pop0_19'] = census_df.iloc[:, 1:5].sum(axis=1).astype(int)\n",
    "census_df['Pop20_99'] = census_df['PopTotal'] - census_df['Pop0_19']\n",
    "\n",
    "census_df = census_df[['ADM2_PCODE', 'PopTotal', 'Pop0_19', 'Pop20_99']]\n",
    "census_df = census_df.merge(df_regions[['ADM2_PCODE']], how='right')\n",
    "census_df"
   ]
  },
  {
   "cell_type": "code",
   "execution_count": null,
   "metadata": {
    "colab": {
     "base_uri": "https://localhost:8080/",
     "height": 1000
    },
    "executionInfo": {
     "elapsed": 979,
     "status": "ok",
     "timestamp": 1643407342723,
     "user": {
      "displayName": "Raquel Carmo",
      "photoUrl": "https://lh3.googleusercontent.com/a-/AOh14GgUUTZlzR-089p-AQlc4K-YNrw3DWlq1fWmuzLsdfI=s64",
      "userId": "09214858898201854328"
     },
     "user_tz": -60
    },
    "id": "uN3gYGDTYtu9",
    "outputId": "f6b37514-6c44-49fd-e523-f5723ff68d89"
   },
   "outputs": [],
   "source": [
    "areas = pd.read_excel(join(config['main_peru'], \"socio-economic\", \"reporte_RurUrb.xlsx\"), skiprows = 357, usecols='B:D', names=['Provincia', 'PopTotal_Urban', 'PopTotal_Rural']).replace('-', 0).dropna()\n",
    "areas.drop(areas.loc[areas['Provincia'].str.contains('Total')].index, inplace=True)\n",
    "areas['PopTotal_Urban'] = round(areas['PopTotal_Urban']).astype(int)\n",
    "areas['PopTotal_Rural'] = round(areas['PopTotal_Rural']).astype(int)\n",
    "\n",
    "areas['ADM2_ES'] = areas[\"Provincia\"].str.rsplit(': ', expand = True)[1].fillna('Callao').apply(lambda x: unidecode(x.strip()))\n",
    "areas = areas.merge(df_regions[['ADM2_ES','ADM2_PCODE']], on=['ADM2_ES'], how='right')[['ADM2_PCODE', 'PopTotal_Urban', 'PopTotal_Rural']]\n",
    "areas"
   ]
  },
  {
   "cell_type": "code",
   "execution_count": null,
   "metadata": {
    "colab": {
     "base_uri": "https://localhost:8080/",
     "height": 1000
    },
    "executionInfo": {
     "elapsed": 638,
     "status": "ok",
     "timestamp": 1643407348168,
     "user": {
      "displayName": "Raquel Carmo",
      "photoUrl": "https://lh3.googleusercontent.com/a-/AOh14GgUUTZlzR-089p-AQlc4K-YNrw3DWlq1fWmuzLsdfI=s64",
      "userId": "09214858898201854328"
     },
     "user_tz": -60
    },
    "id": "rEtBrnJvn1N6",
    "outputId": "4a705172-c1b6-417d-ee7d-fa5d9e91ac0a"
   },
   "outputs": [],
   "source": [
    "pop_df = census_df.merge(areas, on=['ADM2_PCODE'], how='left')\n",
    "pop_df"
   ]
  },
  {
   "cell_type": "code",
   "execution_count": null,
   "metadata": {
    "colab": {
     "base_uri": "https://localhost:8080/"
    },
    "executionInfo": {
     "elapsed": 2,
     "status": "ok",
     "timestamp": 1643407349577,
     "user": {
      "displayName": "Raquel Carmo",
      "photoUrl": "https://lh3.googleusercontent.com/a-/AOh14GgUUTZlzR-089p-AQlc4K-YNrw3DWlq1fWmuzLsdfI=s64",
      "userId": "09214858898201854328"
     },
     "user_tz": -60
    },
    "id": "vTwVcJiDoAfG",
    "outputId": "6b658ee4-4b7c-4341-f9dd-afb686eb8d2d"
   },
   "outputs": [],
   "source": [
    "assert all(pop_df['PopTotal'] == pop_df['Pop0_19'] + pop_df['Pop20_99'])\n",
    "try:\n",
    "    assert all(pop_df['PopTotal'] == pop_df['PopTotal_Urban'] + pop_df['PopTotal_Rural'])\n",
    "except AssertionError:\n",
    "    aux = pop_df.copy()\n",
    "    aux['diff'] = pop_df['PopTotal'] - (aux['PopTotal_Urban'] + aux['PopTotal_Rural'])\n",
    "    print(aux)\n",
    "    print('Maximum absolute difference:', max(abs(aux['diff'])))"
   ]
  },
  {
   "cell_type": "code",
   "execution_count": null,
   "metadata": {
    "colab": {
     "base_uri": "https://localhost:8080/",
     "height": 237
    },
    "executionInfo": {
     "elapsed": 852,
     "status": "ok",
     "timestamp": 1643407352160,
     "user": {
      "displayName": "Raquel Carmo",
      "photoUrl": "https://lh3.googleusercontent.com/a-/AOh14GgUUTZlzR-089p-AQlc4K-YNrw3DWlq1fWmuzLsdfI=s64",
      "userId": "09214858898201854328"
     },
     "user_tz": -60
    },
    "id": "Ftx4ZcL1bnAS",
    "outputId": "09adabea-a94e-4552-ef19-10577938253c"
   },
   "outputs": [],
   "source": [
    "popByDep_df = pop_df.copy()\n",
    "popByDep_df = popByDep_df.merge(df_regions[['ADM1_PCODE', 'ADM2_PCODE']], on='ADM2_PCODE')\n",
    "popByDep_df = popByDep_df.groupby('ADM1_PCODE').sum()\n",
    "popByDep_df.reset_index(inplace=True)\n",
    "popByDep_df"
   ]
  },
  {
   "cell_type": "markdown",
   "metadata": {
    "id": "bsdtUGnJgJn7"
   },
   "source": [
    "### 2.2. Dengue data"
   ]
  },
  {
   "cell_type": "code",
   "execution_count": null,
   "metadata": {
    "colab": {
     "base_uri": "https://localhost:8080/",
     "height": 424
    },
    "executionInfo": {
     "elapsed": 3471,
     "status": "ok",
     "timestamp": 1643407361763,
     "user": {
      "displayName": "Raquel Carmo",
      "photoUrl": "https://lh3.googleusercontent.com/a-/AOh14GgUUTZlzR-089p-AQlc4K-YNrw3DWlq1fWmuzLsdfI=s64",
      "userId": "09214858898201854328"
     },
     "user_tz": -60
    },
    "id": "ciskwzzQP1nx",
    "outputId": "b92dc853-1507-4fb5-89e3-6a16c09c6ecb"
   },
   "outputs": [],
   "source": [
    "dengue_data = join(config['main_peru'], \"Dengue_cases_weekly_District_2010_2020.csv\")\n",
    "dengue_df = pd.read_csv(dengue_data, converters = {'Cd Depa': str}).rename(columns={'Ano': 'Year', 'Semana': 'Week', 'Cd Depa': 'ADM1_PCODE', 'Number of Records': 'Cases'})\n",
    "dengue_df[\"ADM1_PCODE\"] = 'PE'+dengue_df[\"ADM1_PCODE\"].str.zfill(2)\n",
    "\n",
    "dengue_df['YearWeek'] = dengue_df['Year'].astype(str) + dengue_df['Week'].astype(str).apply(lambda x: x.zfill(2))\n",
    "dengue_df['YearWeek'] = dengue_df['YearWeek'].astype(int)\n",
    "dengue_df['LastDayWeek'] = pd.to_datetime((dengue_df['YearWeek']-1).astype(str) + \"6\", format=\"%Y%U%w\")\n",
    "dengue_df.insert(loc=4, column='Month', value=pd.DatetimeIndex(dengue_df['LastDayWeek']).month)\n",
    "\n",
    "dengue_popTotal = dengue_df[['ADM1_PCODE', 'Year', 'Month', 'Cases']]\\\n",
    "                    .groupby(['ADM1_PCODE', 'Year', 'Month'])\\\n",
    "                    .agg({'Cases': 'sum'})\\\n",
    "                    .reset_index()\\\n",
    "                    .rename(columns={'Cases':'cases_total'})\n",
    "\n",
    "dengue_pop0_19 = dengue_df[dengue_df.Edad1 <= 19].reset_index(drop=True)[['ADM1_PCODE', 'Year', 'Month', 'Cases']]\\\n",
    "                                                 .groupby(['ADM1_PCODE', 'Year', 'Month'])\\\n",
    "                                                 .agg({'Cases': 'sum'})\\\n",
    "                                                 .reset_index()\\\n",
    "                                                 .rename(columns={'Cases':'cases0_19'})\n",
    "\n",
    "dengue_pop20_99 = dengue_df[dengue_df.Edad1 > 19].reset_index(drop=True)[['ADM1_PCODE', 'Year', 'Month', 'Cases']]\\\n",
    "                                                 .groupby(['ADM1_PCODE', 'Year', 'Month'])\\\n",
    "                                                 .agg({'Cases': 'sum'})\\\n",
    "                                                 .reset_index()\\\n",
    "                                                 .rename(columns={'Cases':'cases20_99'})\n",
    "\n",
    "dengue = pd.merge(dengue_popTotal, dengue_pop0_19, on=['ADM1_PCODE', 'Year', 'Month'], how='left')\\\n",
    "           .merge(dengue_pop20_99, on=['ADM1_PCODE', 'Year', 'Month'], how='left')\n",
    "\n",
    "dengue = dengue[dengue[\"ADM1_PCODE\"].isin(DOI)]\\\n",
    "                .reset_index(drop=True)\\\n",
    "                .fillna(0)\\\n",
    "                .astype({'cases0_19':int, 'cases20_99':int})\n",
    "dengue"
   ]
  },
  {
   "cell_type": "code",
   "execution_count": null,
   "metadata": {
    "id": "m-7O1oJ1skoU"
   },
   "outputs": [],
   "source": [
    "assert all(dengue['cases_total'] == dengue['cases0_19']+dengue['cases20_99'])"
   ]
  },
  {
   "cell_type": "markdown",
   "metadata": {
    "id": "-mvY7kuLiX4o"
   },
   "source": [
    "### 2.3. Forest/land data"
   ]
  },
  {
   "cell_type": "markdown",
   "metadata": {
    "id": "8P7ABqIqgEmb"
   },
   "source": [
    "#### 2.3.1. Elevation data"
   ]
  },
  {
   "cell_type": "code",
   "execution_count": null,
   "metadata": {
    "colab": {
     "base_uri": "https://localhost:8080/",
     "height": 424
    },
    "executionInfo": {
     "elapsed": 607,
     "status": "ok",
     "timestamp": 1643407382369,
     "user": {
      "displayName": "Raquel Carmo",
      "photoUrl": "https://lh3.googleusercontent.com/a-/AOh14GgUUTZlzR-089p-AQlc4K-YNrw3DWlq1fWmuzLsdfI=s64",
      "userId": "09214858898201854328"
     },
     "user_tz": -60
    },
    "id": "zN-GM_AhiXc-",
    "outputId": "27f18453-44cb-496e-82ca-46230e976aec"
   },
   "outputs": [],
   "source": [
    "elev_df = pd.read_csv(join(config['main_peru'], \"Elevation_stats_by_province.csv\"))\\\n",
    "            .drop(['system:index','ADM1_ES','ADM2_ES','.geo','Province_Area'], axis=1)\n",
    "elev_df"
   ]
  },
  {
   "cell_type": "markdown",
   "metadata": {
    "id": "jw_LRkCKgH5n"
   },
   "source": [
    "#### 2.3.2. Urbal/Rural data"
   ]
  },
  {
   "cell_type": "code",
   "execution_count": null,
   "metadata": {
    "colab": {
     "base_uri": "https://localhost:8080/",
     "height": 833
    },
    "executionInfo": {
     "elapsed": 234,
     "status": "ok",
     "timestamp": 1643407384387,
     "user": {
      "displayName": "Raquel Carmo",
      "photoUrl": "https://lh3.googleusercontent.com/a-/AOh14GgUUTZlzR-089p-AQlc4K-YNrw3DWlq1fWmuzLsdfI=s64",
      "userId": "09214858898201854328"
     },
     "user_tz": -60
    },
    "id": "SeFYxsYyKNJ8",
    "outputId": "21f2f370-6b20-4f4e-a955-cdd2e8c2114d"
   },
   "outputs": [],
   "source": [
    "urbRur_df = pd.read_csv(join(config['main_peru'], \"Urban_Rural_stats_by_department.csv\"))\\\n",
    "              .rename(columns={'system:index':'ADM1_PCODE', 'Urban%':'Urban_Cover_Percent'})\\\n",
    "                [['ADM1_PCODE','Urban_Cover_Percent']]\n",
    "urbRur_df"
   ]
  },
  {
   "cell_type": "markdown",
   "metadata": {
    "id": "AhUPX1CJgMND"
   },
   "source": [
    "#### 2.3.3. Forest Cover data"
   ]
  },
  {
   "cell_type": "code",
   "execution_count": null,
   "metadata": {
    "colab": {
     "base_uri": "https://localhost:8080/",
     "height": 897
    },
    "executionInfo": {
     "elapsed": 245,
     "status": "ok",
     "timestamp": 1643407388134,
     "user": {
      "displayName": "Raquel Carmo",
      "photoUrl": "https://lh3.googleusercontent.com/a-/AOh14GgUUTZlzR-089p-AQlc4K-YNrw3DWlq1fWmuzLsdfI=s64",
      "userId": "09214858898201854328"
     },
     "user_tz": -60
    },
    "id": "irHgCKHtMYOO",
    "outputId": "e4ab7c7a-0f1c-4947-d7d2-91a0c9e199f5"
   },
   "outputs": [],
   "source": [
    "forest_stats = pd.read_csv(join(config['main_peru'], \"Forest_loss_stats_by_department.csv\")).rename(columns={'system:index': 'ADM1_PCODE'}).fillna(0)\n",
    "fCover_df = forest_stats[['ADM1_PCODE']].copy()\n",
    "perc_cols = forest_stats.columns[1:-4]\n",
    "\n",
    "cnt=0\n",
    "for col in perc_cols:\n",
    "    cumulative_loss = forest_stats[col] if cnt == 0 else cumulative_loss + forest_stats[col]\n",
    "    fCover_df['Forest_Cover_Percent_%s' %(col)] = ((forest_stats[\"ForestCover2000\"] - cumulative_loss) / forest_stats[\"Department_Area\"]) * 100\n",
    "    cnt+=1\n",
    "\n",
    "fCover_df"
   ]
  },
  {
   "cell_type": "code",
   "execution_count": null,
   "metadata": {
    "colab": {
     "base_uri": "https://localhost:8080/",
     "height": 833
    },
    "executionInfo": {
     "elapsed": 259,
     "status": "ok",
     "timestamp": 1643407390663,
     "user": {
      "displayName": "Raquel Carmo",
      "photoUrl": "https://lh3.googleusercontent.com/a-/AOh14GgUUTZlzR-089p-AQlc4K-YNrw3DWlq1fWmuzLsdfI=s64",
      "userId": "09214858898201854328"
     },
     "user_tz": -60
    },
    "id": "gkICksgRsROA",
    "outputId": "bf390ab0-4c57-43e4-a037-e38b900f78ca"
   },
   "outputs": [],
   "source": [
    "depArea_df = forest_stats[['ADM1_PCODE','Department_Area']].copy().rename(columns={'Department_Area':'area_km2'})\n",
    "\n",
    "# convert m2 to km2\n",
    "depArea_df['area_km2'] = depArea_df['area_km2'].div(10**6, axis=0)\n",
    "depArea_df"
   ]
  },
  {
   "cell_type": "code",
   "execution_count": null,
   "metadata": {
    "colab": {
     "base_uri": "https://localhost:8080/",
     "height": 424
    },
    "executionInfo": {
     "elapsed": 261,
     "status": "ok",
     "timestamp": 1643407393945,
     "user": {
      "displayName": "Raquel Carmo",
      "photoUrl": "https://lh3.googleusercontent.com/a-/AOh14GgUUTZlzR-089p-AQlc4K-YNrw3DWlq1fWmuzLsdfI=s64",
      "userId": "09214858898201854328"
     },
     "user_tz": -60
    },
    "id": "XaJx73vajJqj",
    "outputId": "3693648c-3103-4965-dc3b-e069479a3a3c"
   },
   "outputs": [],
   "source": [
    "years = np.arange(2001, 2021)\n",
    "newDict={'Year':[], 'ADM1_PCODE':[], 'Forest_Cover_Percent':[]}\n",
    "\n",
    "for id, row in fCover_df.iterrows():\n",
    "    for year in years:\n",
    "        newDict['Year'].append(year)\n",
    "        newDict['ADM1_PCODE'].append(row.ADM1_PCODE)\n",
    "        newDict['Forest_Cover_Percent'].append(row['Forest_Cover_Percent_%i' %year])\n",
    "\n",
    "fCover_df2 = pd.DataFrame(newDict)\n",
    "fCover_df2"
   ]
  },
  {
   "cell_type": "markdown",
   "metadata": {
    "id": "g6QxHkMmNx51"
   },
   "source": [
    "### 2.4. Climate data"
   ]
  },
  {
   "cell_type": "code",
   "execution_count": null,
   "metadata": {
    "colab": {
     "base_uri": "https://localhost:8080/",
     "height": 206
    },
    "executionInfo": {
     "elapsed": 264,
     "status": "ok",
     "timestamp": 1643407398538,
     "user": {
      "displayName": "Raquel Carmo",
      "photoUrl": "https://lh3.googleusercontent.com/a-/AOh14GgUUTZlzR-089p-AQlc4K-YNrw3DWlq1fWmuzLsdfI=s64",
      "userId": "09214858898201854328"
     },
     "user_tz": -60
    },
    "id": "hytNeRsiNw-x",
    "outputId": "f40ca767-eb9a-4ea0-caa8-9bf836274ac4"
   },
   "outputs": [],
   "source": [
    "era5land = pd.read_csv(join(config['main_peru'], 'ERA5land_NDVI_monthly_provinces_Peru.csv'))\n",
    "era5land['Date'] = pd.to_datetime(era5land['Date'])\n",
    "era5land.head()"
   ]
  },
  {
   "cell_type": "code",
   "execution_count": null,
   "metadata": {
    "colab": {
     "base_uri": "https://localhost:8080/"
    },
    "executionInfo": {
     "elapsed": 385,
     "status": "ok",
     "timestamp": 1643407401533,
     "user": {
      "displayName": "Raquel Carmo",
      "photoUrl": "https://lh3.googleusercontent.com/a-/AOh14GgUUTZlzR-089p-AQlc4K-YNrw3DWlq1fWmuzLsdfI=s64",
      "userId": "09214858898201854328"
     },
     "user_tz": -60
    },
    "id": "YpJuxl3rmHQN",
    "outputId": "8b1e204a-e3a8-4306-a67c-e64bef6ea2fa"
   },
   "outputs": [],
   "source": [
    "era5land.isna().sum()"
   ]
  },
  {
   "cell_type": "code",
   "execution_count": null,
   "metadata": {
    "colab": {
     "base_uri": "https://localhost:8080/",
     "height": 357
    },
    "executionInfo": {
     "elapsed": 278,
     "status": "ok",
     "timestamp": 1643407539773,
     "user": {
      "displayName": "Raquel Carmo",
      "photoUrl": "https://lh3.googleusercontent.com/a-/AOh14GgUUTZlzR-089p-AQlc4K-YNrw3DWlq1fWmuzLsdfI=s64",
      "userId": "09214858898201854328"
     },
     "user_tz": -60
    },
    "id": "3g90jUjlPz8V",
    "outputId": "aeaff3f7-8737-4dd5-b083-88164f93d81b"
   },
   "outputs": [],
   "source": [
    "era5land_df = era5land.merge(elev_df, on=['ADM2_PCODE'], how='left')\n",
    "era5land_df.head()"
   ]
  },
  {
   "cell_type": "code",
   "execution_count": null,
   "metadata": {
    "colab": {
     "base_uri": "https://localhost:8080/"
    },
    "executionInfo": {
     "elapsed": 303,
     "status": "ok",
     "timestamp": 1643407543195,
     "user": {
      "displayName": "Raquel Carmo",
      "photoUrl": "https://lh3.googleusercontent.com/a-/AOh14GgUUTZlzR-089p-AQlc4K-YNrw3DWlq1fWmuzLsdfI=s64",
      "userId": "09214858898201854328"
     },
     "user_tz": -60
    },
    "id": "_SyWWuLnZiDt",
    "outputId": "778c03cb-0eb0-4d55-bf37-d6e0bc0c3642"
   },
   "outputs": [],
   "source": [
    "era5land_df.info()"
   ]
  },
  {
   "cell_type": "markdown",
   "metadata": {
    "id": "R7u92klFDRpg"
   },
   "source": [
    "### 2.5. Social data"
   ]
  },
  {
   "cell_type": "markdown",
   "metadata": {
    "id": "VXHSGxtmSPOP"
   },
   "source": [
    "#### 2.5.1. Water Supply"
   ]
  },
  {
   "cell_type": "code",
   "execution_count": null,
   "metadata": {
    "colab": {
     "base_uri": "https://localhost:8080/"
    },
    "executionInfo": {
     "elapsed": 279,
     "status": "ok",
     "timestamp": 1643407545559,
     "user": {
      "displayName": "Raquel Carmo",
      "photoUrl": "https://lh3.googleusercontent.com/a-/AOh14GgUUTZlzR-089p-AQlc4K-YNrw3DWlq1fWmuzLsdfI=s64",
      "userId": "09214858898201854328"
     },
     "user_tz": -60
    },
    "id": "W3Czrv5pDQrG",
    "outputId": "ada69c68-6f00-4a8e-cc48-1d7cb2ddfe08"
   },
   "outputs": [],
   "source": [
    "water = pd.read_excel(join(config['main_peru'], \"socio-economic\", \"reporte_AbastacimientoAgua.xlsx\"), skiprows = 405, usecols='B:K', names=['ADM1_ES', 'WaterSupply_PublicNetworkInside', 'WaterSupply_PublicNetworkBuilding', 'WaterSupply_PoolPublicUse', 'WaterSupply_Tanker', 'WaterSupply_Well', 'WaterSupply_Aqueduct', 'WaterSupply_RiverLake', 'WaterSupply_Other', 'WaterSupply_Closeby']).replace('-', 0).dropna()\n",
    "water = water.astype({\"WaterSupply_PublicNetworkInside\":int, \"WaterSupply_PublicNetworkBuilding\":int, \"WaterSupply_PoolPublicUse\":int, \"WaterSupply_Tanker\":int, \"WaterSupply_Well\":int, \"WaterSupply_Aqueduct\":int, \"WaterSupply_RiverLake\":int, \"WaterSupply_Other\":int, \"WaterSupply_Closeby\":int})\n",
    "water['ADM1_ES'] = water[\"ADM1_ES\"].str.rsplit(', ', expand = True)[0].apply(lambda x: unidecode(x.strip()))\n",
    "water = water[~water['ADM1_ES'].str.contains(\"Total\")].reset_index(drop=True)\n",
    "water = water.groupby(['ADM1_ES']).agg(sum)\n",
    "water.reset_index(level=water.index.names, inplace=True)\n",
    "\n",
    "water_df = water.merge(df_regions[['ADM1_ES', 'ADM1_PCODE']].drop_duplicates(), on=['ADM1_ES']).drop(columns=['ADM1_ES'])\n",
    "cols = list(water_df)\n",
    "cols.insert(0, cols.pop(cols.index('ADM1_PCODE')))\n",
    "water_df = water_df.loc[:, cols]\n",
    "water_df"
   ]
  },
  {
   "cell_type": "markdown",
   "metadata": {
    "id": "N_xrKIejVg_v"
   },
   "source": [
    "#### 2.5.2. Electricity"
   ]
  },
  {
   "cell_type": "code",
   "execution_count": null,
   "metadata": {
    "colab": {
     "base_uri": "https://localhost:8080/"
    },
    "executionInfo": {
     "elapsed": 296,
     "status": "ok",
     "timestamp": 1643407546588,
     "user": {
      "displayName": "Raquel Carmo",
      "photoUrl": "https://lh3.googleusercontent.com/a-/AOh14GgUUTZlzR-089p-AQlc4K-YNrw3DWlq1fWmuzLsdfI=s64",
      "userId": "09214858898201854328"
     },
     "user_tz": -60
    },
    "id": "jaQk4I88VoOU",
    "outputId": "eb142526-5b67-45c5-c9e0-161b506430e8"
   },
   "outputs": [],
   "source": [
    "electricity = pd.read_excel(join(config['main_peru'], \"socio-economic\", \"reporte_AlumbradoElectrico.xlsx\"), skiprows = 405, usecols='B:D', names=['ADM1_ES', 'WithElectricity', 'WithoutElectricity']).replace('-', 0).dropna()\n",
    "electricity = electricity.astype({'WithElectricity': int, 'WithoutElectricity':int})\n",
    "\n",
    "electricity['ADM1_ES'] = electricity[\"ADM1_ES\"].str.rsplit(', ', expand = True)[0].apply(lambda x: unidecode(x.strip()))\n",
    "electricity = electricity[~electricity['ADM1_ES'].str.contains(\"Total\")].reset_index(drop=True)\n",
    "electricity = electricity.groupby(['ADM1_ES']).agg(sum)\n",
    "electricity.reset_index(level=electricity.index.names, inplace=True)\n",
    "\n",
    "electricity_df = electricity.merge(df_regions[['ADM1_ES', 'ADM1_PCODE']].drop_duplicates(), on=['ADM1_ES']).drop(columns=['ADM1_ES'])\n",
    "electricity_df"
   ]
  },
  {
   "cell_type": "markdown",
   "metadata": {
    "id": "eO933hrtWG7a"
   },
   "source": [
    "#### 2.5.3. Urban/Rural Areas"
   ]
  },
  {
   "cell_type": "code",
   "execution_count": null,
   "metadata": {
    "colab": {
     "base_uri": "https://localhost:8080/"
    },
    "executionInfo": {
     "elapsed": 4,
     "status": "ok",
     "timestamp": 1643407547474,
     "user": {
      "displayName": "Raquel Carmo",
      "photoUrl": "https://lh3.googleusercontent.com/a-/AOh14GgUUTZlzR-089p-AQlc4K-YNrw3DWlq1fWmuzLsdfI=s64",
      "userId": "09214858898201854328"
     },
     "user_tz": -60
    },
    "id": "jsLXZ4CoWKjM",
    "outputId": "be283a9c-2844-4470-b796-be43d149726c"
   },
   "outputs": [],
   "source": [
    "areas = pd.read_excel(join(config['main_peru'], \"socio-economic\", \"reporte_RurUrb.xlsx\"), skiprows = 357, usecols='B:D', names=['ADM1_ES', 'Urban', 'Rural']).replace('-', 0).dropna()\n",
    "areas = areas.astype({'Urban': int, 'Rural':int})\n",
    "\n",
    "areas.loc[areas.Urban > 0, 'Urban'] = 1\n",
    "areas.loc[areas.Rural > 0, 'Rural'] = 1\n",
    "\n",
    "areas.insert(loc=3, column='rur_prov', value=0)\n",
    "areas.loc[(areas['Rural'] == 1) & (areas['Urban'] == 0), 'rur_prov'] = 1 \n",
    "\n",
    "areas.insert(loc=4, column='urb_prov', value=0)\n",
    "areas.loc[(areas['Rural'] == 0) & (areas['Urban'] == 1), 'urb_prov'] = 1 \n",
    "\n",
    "areas.insert(loc=5, column='urbrur_prov', value=0)\n",
    "areas.loc[(areas['Rural'] == 1) & (areas['Urban'] == 1), 'urbrur_prov'] = 1\n",
    "\n",
    "areas.insert(loc=6, column='Total', value=1)\n",
    "\n",
    "areas['ADM1_ES'] = areas[\"ADM1_ES\"].str.rsplit(', ', expand = True)[0].apply(lambda x: unidecode(x.strip()))\n",
    "\n",
    "areas = areas[~areas['ADM1_ES'].str.contains(\"Total\")].reset_index(drop=True)\n",
    "areas = areas.groupby(['ADM1_ES']).agg(sum)\n",
    "areas.reset_index(level=areas.index.names, inplace=True)\n",
    "\n",
    "areas['rur_prov'] /= areas['Total']\n",
    "areas['rur_prov'] = areas['rur_prov'].round(3)\n",
    "areas['urb_prov'] /= areas['Total']\n",
    "areas['urb_prov'] = areas['urb_prov'].round(3)\n",
    "areas['urbrur_prov'] /= areas['Total']\n",
    "areas['urbrur_prov'] = areas['urbrur_prov'].round(3)\n",
    "\n",
    "areas.drop(columns=['Urban', 'Rural', 'Total'], inplace=True)\n",
    "areas_df = areas.merge(df_regions[['ADM1_ES', 'ADM1_PCODE']].drop_duplicates(), on=['ADM1_ES']).drop(columns=['ADM1_ES'])\n",
    "areas_df"
   ]
  },
  {
   "cell_type": "markdown",
   "metadata": {
    "id": "XUl4HK3GWw_T"
   },
   "source": [
    "#### 2.5.4. Hygienic Service"
   ]
  },
  {
   "cell_type": "code",
   "execution_count": null,
   "metadata": {
    "colab": {
     "base_uri": "https://localhost:8080/"
    },
    "executionInfo": {
     "elapsed": 3,
     "status": "ok",
     "timestamp": 1643407548135,
     "user": {
      "displayName": "Raquel Carmo",
      "photoUrl": "https://lh3.googleusercontent.com/a-/AOh14GgUUTZlzR-089p-AQlc4K-YNrw3DWlq1fWmuzLsdfI=s64",
      "userId": "09214858898201854328"
     },
     "user_tz": -60
    },
    "id": "YLB6gwkPWq-U",
    "outputId": "b90e3efe-f639-4846-e983-999aa7fc0435"
   },
   "outputs": [],
   "source": [
    "hygienic = pd.read_excel(join(config['main_peru'], \"socio-economic\", \"reporte_ServicioHigienico.xlsx\"), skiprows = 405, usecols='B:J', names=['ADM1_ES', 'Hygienic_PublicNetworkInside', 'Hygienic_PublicNetworkBuilding', 'Hygienic_SepticTank', 'Hygienic_Latrine', 'Hygienic_Well', 'Hygienic_RiverLake', 'Hygienic_OpenField', 'Hygienic_Other']).replace('-', 0).dropna()\n",
    "hygienic = hygienic.astype({'Hygienic_PublicNetworkInside':int, 'Hygienic_PublicNetworkBuilding':int, 'Hygienic_SepticTank':int, 'Hygienic_Latrine':int, 'Hygienic_Well':int, 'Hygienic_RiverLake':int, 'Hygienic_OpenField':int, 'Hygienic_Other':int})\n",
    "\n",
    "hygienic['ADM1_ES'] = hygienic[\"ADM1_ES\"].str.rsplit(', ', expand = True)[0].apply(lambda x: unidecode(x.strip()))\n",
    "hygienic = hygienic[~hygienic['ADM1_ES'].str.contains(\"Total\")].reset_index(drop=True)\n",
    "hygienic = hygienic.groupby(['ADM1_ES']).agg(sum)\n",
    "hygienic.reset_index(level=hygienic.index.names, inplace=True)\n",
    "\n",
    "hygienic_df = hygienic.merge(df_regions[['ADM1_ES', 'ADM1_PCODE']].drop_duplicates(), on=['ADM1_ES']).drop(columns=['ADM1_ES'])\n",
    "hygienic_df"
   ]
  },
  {
   "cell_type": "markdown",
   "metadata": {
    "id": "WCBmEV-kXKIH"
   },
   "source": [
    "#### 2.5.5. Type of House"
   ]
  },
  {
   "cell_type": "code",
   "execution_count": null,
   "metadata": {
    "colab": {
     "base_uri": "https://localhost:8080/"
    },
    "executionInfo": {
     "elapsed": 4,
     "status": "ok",
     "timestamp": 1643407548880,
     "user": {
      "displayName": "Raquel Carmo",
      "photoUrl": "https://lh3.googleusercontent.com/a-/AOh14GgUUTZlzR-089p-AQlc4K-YNrw3DWlq1fWmuzLsdfI=s64",
      "userId": "09214858898201854328"
     },
     "user_tz": -60
    },
    "id": "tEWyoUOmXJ4c",
    "outputId": "611dfb87-2402-4ba7-d5f0-1efe3f8d4b3a"
   },
   "outputs": [],
   "source": [
    "house = pd.read_excel(join(config['main_peru'], \"socio-economic\", \"reporte_TipoVivienda.xlsx\"), skiprows = 355, usecols='B:K', names=['ADM1_ES', 'HouseType_Independent', 'HouseType_Flat', 'HouseType_Farm', 'HouseType_HoodAlley', 'HouseType_Hut', 'HouseType_Improvised', 'HouseType_NonHumanHabitation', 'HouseType_Other', 'HouseType_Collective']).replace('-', 0).dropna()\n",
    "house = house.astype({'HouseType_Independent':int, 'HouseType_Flat':int, 'HouseType_Farm':int, 'HouseType_HoodAlley':int, 'HouseType_Hut':int, 'HouseType_Improvised':int, 'HouseType_NonHumanHabitation':int, 'HouseType_Other':int, 'HouseType_Collective':int})\n",
    "house['ADM1_ES'] = house[\"ADM1_ES\"].str.rsplit(', ', expand = True)[0].apply(lambda x: unidecode(x.strip()))\n",
    "\n",
    "house = house[~house['ADM1_ES'].str.contains(\"Total\")].reset_index(drop=True)\n",
    "house = house.groupby(['ADM1_ES']).agg(sum)\n",
    "house.reset_index(level=house.index.names, inplace=True)\n",
    "\n",
    "house_df = house.merge(df_regions[['ADM1_ES', 'ADM1_PCODE']].drop_duplicates(), on=['ADM1_ES']).drop(columns=['ADM1_ES'])\n",
    "house_df"
   ]
  },
  {
   "cell_type": "markdown",
   "metadata": {
    "id": "4uuY1qQtbDSr"
   },
   "source": [
    "#### 2.5.6. Merge all social-economic data"
   ]
  },
  {
   "cell_type": "code",
   "execution_count": null,
   "metadata": {
    "colab": {
     "base_uri": "https://localhost:8080/"
    },
    "executionInfo": {
     "elapsed": 4,
     "status": "ok",
     "timestamp": 1643407549930,
     "user": {
      "displayName": "Raquel Carmo",
      "photoUrl": "https://lh3.googleusercontent.com/a-/AOh14GgUUTZlzR-089p-AQlc4K-YNrw3DWlq1fWmuzLsdfI=s64",
      "userId": "09214858898201854328"
     },
     "user_tz": -60
    },
    "id": "POAMY4uHXbYA",
    "outputId": "ccc6a58c-1654-45ae-afd7-58459a53b450"
   },
   "outputs": [],
   "source": [
    "dfs = [water_df, electricity_df, areas_df, hygienic_df, house_df]\n",
    "social_df = reduce(lambda left, right: pd.merge(left, right, on=['ADM1_PCODE'], how='outer'), dfs)\n",
    "social_df"
   ]
  },
  {
   "cell_type": "markdown",
   "metadata": {
    "id": "DFDfDMXGuIjn"
   },
   "source": [
    "## **3.** Create final dataframe"
   ]
  },
  {
   "cell_type": "markdown",
   "metadata": {
    "id": "JtkDcG_JBOLt"
   },
   "source": [
    "### 3.1. Merge all data"
   ]
  },
  {
   "cell_type": "code",
   "execution_count": null,
   "metadata": {
    "colab": {
     "base_uri": "https://localhost:8080/",
     "height": 661
    },
    "executionInfo": {
     "elapsed": 243,
     "status": "ok",
     "timestamp": 1643407551312,
     "user": {
      "displayName": "Raquel Carmo",
      "photoUrl": "https://lh3.googleusercontent.com/a-/AOh14GgUUTZlzR-089p-AQlc4K-YNrw3DWlq1fWmuzLsdfI=s64",
      "userId": "09214858898201854328"
     },
     "user_tz": -60
    },
    "id": "TVc-9Wf0lT0u",
    "outputId": "c34446ac-6a93-4f61-dd29-922d21ac2679"
   },
   "outputs": [],
   "source": [
    "df = pd.merge(era5land_df, pop_df[['ADM2_PCODE', 'PopTotal']], on='ADM2_PCODE', how='inner')\n",
    "df"
   ]
  },
  {
   "cell_type": "code",
   "execution_count": null,
   "metadata": {
    "colab": {
     "base_uri": "https://localhost:8080/"
    },
    "executionInfo": {
     "elapsed": 244,
     "status": "ok",
     "timestamp": 1643407557072,
     "user": {
      "displayName": "Raquel Carmo",
      "photoUrl": "https://lh3.googleusercontent.com/a-/AOh14GgUUTZlzR-089p-AQlc4K-YNrw3DWlq1fWmuzLsdfI=s64",
      "userId": "09214858898201854328"
     },
     "user_tz": -60
    },
    "id": "6o-BIvvNs5Yi",
    "outputId": "bb0e4461-3a09-4215-a5f2-1d3940bb824b"
   },
   "outputs": [],
   "source": [
    "df.isnull().sum()"
   ]
  },
  {
   "cell_type": "markdown",
   "metadata": {},
   "source": [
    "Create population-weighted monthly averages of climatic variables."
   ]
  },
  {
   "cell_type": "code",
   "execution_count": null,
   "metadata": {
    "colab": {
     "base_uri": "https://localhost:8080/",
     "height": 357
    },
    "executionInfo": {
     "elapsed": 267,
     "status": "ok",
     "timestamp": 1643407559481,
     "user": {
      "displayName": "Raquel Carmo",
      "photoUrl": "https://lh3.googleusercontent.com/a-/AOh14GgUUTZlzR-089p-AQlc4K-YNrw3DWlq1fWmuzLsdfI=s64",
      "userId": "09214858898201854328"
     },
     "user_tz": -60
    },
    "id": "vaVEO1rNTxSy",
    "outputId": "713ae39a-0532-49b6-9f0c-48477ebdca62"
   },
   "outputs": [],
   "source": [
    "vars = ['NDVI', 'dewpoint_temperature_2m', 'humidity',\n",
    "        'max_temperature_2m', 'min_temperature_2m', 'surface_pressure',\n",
    "        'temperature_2m', 'total_precipitation', \n",
    "        'u_component_of_wind_10m', 'v_component_of_wind_10m',\n",
    "        'max_elevation', 'mean_elevation', 'min_elevation',\n",
    "        'stdDev_elevation', 'variance_elevation']\n",
    "\n",
    "df.loc[:, vars] = df.loc[:, vars].multiply(df['PopTotal'], axis=0)\n",
    "df = df.rename(columns={col: col+'_d' for col in df.columns if col in vars})\n",
    "df.head()"
   ]
  },
  {
   "cell_type": "code",
   "execution_count": null,
   "metadata": {
    "colab": {
     "base_uri": "https://localhost:8080/",
     "height": 357
    },
    "executionInfo": {
     "elapsed": 286,
     "status": "ok",
     "timestamp": 1643407561834,
     "user": {
      "displayName": "Raquel Carmo",
      "photoUrl": "https://lh3.googleusercontent.com/a-/AOh14GgUUTZlzR-089p-AQlc4K-YNrw3DWlq1fWmuzLsdfI=s64",
      "userId": "09214858898201854328"
     },
     "user_tz": -60
    },
    "id": "iqcrGBGWXhok",
    "outputId": "114169c9-64fa-45cb-8c0e-f30574443a1e"
   },
   "outputs": [],
   "source": [
    "df1 = df.groupby(['Date','ADM1_PCODE'], as_index=False).sum()\n",
    "df1.head()"
   ]
  },
  {
   "cell_type": "code",
   "execution_count": null,
   "metadata": {
    "colab": {
     "base_uri": "https://localhost:8080/",
     "height": 357
    },
    "executionInfo": {
     "elapsed": 266,
     "status": "ok",
     "timestamp": 1643407632061,
     "user": {
      "displayName": "Raquel Carmo",
      "photoUrl": "https://lh3.googleusercontent.com/a-/AOh14GgUUTZlzR-089p-AQlc4K-YNrw3DWlq1fWmuzLsdfI=s64",
      "userId": "09214858898201854328"
     },
     "user_tz": -60
    },
    "id": "vmuUExCIchnw",
    "outputId": "98ab9302-62e7-495b-da7f-c83137582d97"
   },
   "outputs": [],
   "source": [
    "cols = ['NDVI_d', 'dewpoint_temperature_2m_d', 'humidity_d',\n",
    "        'max_temperature_2m_d', 'min_temperature_2m_d', 'surface_pressure_d',\n",
    "        'temperature_2m_d', 'total_precipitation_d',\n",
    "        'u_component_of_wind_10m_d', 'v_component_of_wind_10m_d',\n",
    "        'max_elevation_d', 'mean_elevation_d', 'min_elevation_d',\n",
    "        'stdDev_elevation_d', 'variance_elevation_d']\n",
    "\n",
    "df1.loc[:, cols] = df1.loc[:, cols].div(df1['PopTotal'], axis=0)\n",
    "df1.head()"
   ]
  },
  {
   "cell_type": "code",
   "execution_count": null,
   "metadata": {
    "colab": {
     "base_uri": "https://localhost:8080/",
     "height": 661
    },
    "executionInfo": {
     "elapsed": 236,
     "status": "ok",
     "timestamp": 1643407647675,
     "user": {
      "displayName": "Raquel Carmo",
      "photoUrl": "https://lh3.googleusercontent.com/a-/AOh14GgUUTZlzR-089p-AQlc4K-YNrw3DWlq1fWmuzLsdfI=s64",
      "userId": "09214858898201854328"
     },
     "user_tz": -60
    },
    "id": "OJZ3_FuvCeBt",
    "outputId": "7c366706-5e76-4648-9b73-1aa157b8ce82"
   },
   "outputs": [],
   "source": [
    "df1 = df1.drop(columns=['PopTotal'], axis=1)\n",
    "df1.insert(loc=1, column='Year', value=df1['Date'].dt.year)\n",
    "df1.insert(loc=2, column='Month', value=df1['Date'].dt.month)\n",
    "df1"
   ]
  },
  {
   "cell_type": "code",
   "execution_count": null,
   "metadata": {
    "colab": {
     "base_uri": "https://localhost:8080/",
     "height": 661
    },
    "executionInfo": {
     "elapsed": 268,
     "status": "ok",
     "timestamp": 1643407733241,
     "user": {
      "displayName": "Raquel Carmo",
      "photoUrl": "https://lh3.googleusercontent.com/a-/AOh14GgUUTZlzR-089p-AQlc4K-YNrw3DWlq1fWmuzLsdfI=s64",
      "userId": "09214858898201854328"
     },
     "user_tz": -60
    },
    "id": "kDLqxcNIBaB5",
    "outputId": "c60cc5ad-8f85-4025-80e6-771c2db263ce"
   },
   "outputs": [],
   "source": [
    "df2 = pd.merge(df1, popByDep_df, on=['ADM1_PCODE'], how='left')\\\n",
    "        .merge(depArea_df, on=['ADM1_PCODE'], how='left')\\\n",
    "        .merge(dengue, on=['ADM1_PCODE', 'Year', 'Month'], how='left')\\\n",
    "        .merge(fCover_df2, on=['ADM1_PCODE', 'Year'], how='left')\\\n",
    "        .merge(urbRur_df, on=['ADM1_PCODE'], how='left')\\\n",
    "        .merge(social_df, on=['ADM1_PCODE'], how='left')\\\n",
    "        .fillna(0).astype({'cases_total':int, 'cases0_19':int, 'cases20_99':int})\\\n",
    "        .sort_values(by=['ADM1_PCODE','Date'])\n",
    "       \n",
    "cols = list(df2)\n",
    "cols.insert(4, cols.pop(cols.index('area_km2')))\n",
    "df2 = df2.loc[:, cols]\n",
    "df2"
   ]
  },
  {
   "cell_type": "code",
   "execution_count": null,
   "metadata": {
    "colab": {
     "base_uri": "https://localhost:8080/"
    },
    "executionInfo": {
     "elapsed": 270,
     "status": "ok",
     "timestamp": 1643407745007,
     "user": {
      "displayName": "Raquel Carmo",
      "photoUrl": "https://lh3.googleusercontent.com/a-/AOh14GgUUTZlzR-089p-AQlc4K-YNrw3DWlq1fWmuzLsdfI=s64",
      "userId": "09214858898201854328"
     },
     "user_tz": -60
    },
    "id": "z-gTJED7IjzD",
    "outputId": "3687485c-cd40-4a58-da15-6e5ecb9d0b05"
   },
   "outputs": [],
   "source": [
    "df2.isna().sum()"
   ]
  },
  {
   "cell_type": "code",
   "execution_count": null,
   "metadata": {
    "id": "lXfWIN79IxGA"
   },
   "outputs": [],
   "source": [
    "df2.to_csv(join(config['main_peru'], 'Peru_Departments_dengue_monthly.csv'), index=False)"
   ]
  }
 ],
 "metadata": {
  "colab": {
   "authorship_tag": "ABX9TyNUsrxk2soGap8jckxfJeNx",
   "collapsed_sections": [
    "rOp3z1XwgNzl",
    "bsdtUGnJgJn7",
    "g6QxHkMmNx51"
   ],
   "name": "dataFusion_Peru.ipynb",
   "provenance": []
  },
  "kernelspec": {
   "display_name": "Python 3",
   "language": "python",
   "name": "python3"
  },
  "language_info": {
   "codemirror_mode": {
    "name": "ipython",
    "version": 3
   },
   "file_extension": ".py",
   "mimetype": "text/x-python",
   "name": "python",
   "nbconvert_exporter": "python",
   "pygments_lexer": "ipython3",
   "version": "3.8.6"
  }
 },
 "nbformat": 4,
 "nbformat_minor": 4
}
